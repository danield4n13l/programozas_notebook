{
 "cells": [
  {
   "attachments": {},
   "cell_type": "markdown",
   "metadata": {},
   "source": [
    "Üdv\n",
    "======\n",
    "\n",
    "Ez egy interaktív-szerű tanuló füzet beépített *C#* kernellel, ami lehetővé teszi a sorok futtatását.  \n",
    "Próbáld ki nyugodtan, bár elsőre bonyolult lesz ([itt egy kis help](https://andrewlock.net/exploring-dotnet-interactive-notebooks/#:~:text=Installing%20.NET%20Interactive%20Notebooks)).  \n",
    "Ha PDF-ként kaptad meg, akkor másold ki a kódokat és futtasd offline/online, akár [_VSCode_](https://vscode.dev/)-ban.\n",
    "\n",
    "> **Fontos:** A **sorbeolvasást** és a **névtérdeklarálást** leszámítva minden más működik.\n",
    "\n",
    "Mivel nem teljes a sztori fejlesztés-oldalról és saját oldalról sem, ne lepődj meg  \n",
    "ha egy-két errort vagy bugot találsz. Előre bocs.\n",
    "\n",
    "A leckék sorrendje a Sololearn [(sololearn.com)](https://sololearn.com) [(Mobile)](https://sololearn.onelink.me/MfgO/19wol1x7) platformból lett átvéve, és átdolgozva az érthetőség érdekében.  \n",
    "Néhány infót pedig TutorialsPoint [(tutorialspoint.com)](tutorialspoint.com), Microsoft .NET [(docs.microsoft.net)](https://docs.microsoft.com/en-us/dotnet/) és C# Tutorial [(csharptutorial.hu)](https://csharptutorial.hu/docs/hellovilag-hellocsharp/) oldalakról szedtem.  \n",
    "*(ez utóbbi úgy tűnhet, mintha ezt másoltam volna, ám nekem is a saját könyvem írása végén szembesültem ezzel a pacek weboldallal. Ajánlom mindenkinek!)*"
   ]
  },
  {
   "attachments": {},
   "cell_type": "markdown",
   "metadata": {},
   "source": [
    "# Alapszint\n",
    "\n",
    "## 1.    C# avagy Csharp\n",
    "- OOP nyelv = Tárgy-orientált = \"Mindent generalizálni, példányosítani kell.\" xd\n",
    "- .NET keretrendszeren működőképes appokra szánt\n",
    "- Windows, web, mobil, szerver, adatbázis\n",
    "\n",
    "Az ember-olvasható programfájl kiterjesztése `.cs`.\n",
    "Ezt a fordító/összerakóprogram (a \"compiler\") a .NET könyvtárait felhasználva\n",
    "lefordítja futtatható programmá (`.exe` vagy `.dll` vagy etc.)."
   ]
  },
  {
   "attachments": {},
   "cell_type": "markdown",
   "metadata": {},
   "source": [
    "## 2. Változók, Kommentek és Whitespace\n",
    "\n",
    "Mégmielőtt tárgyalnánk a legkönnyebb dolgokat, több dolgot leszögezek:\n",
    " * Egy **kifejezés** (expression) akkor kifejezés, ha futás közben *egy értékre* fejezhető ki. (például `19` vagy `int kettő = 2;`)\n",
    " * Egy **állítás** (statement) a program alapvető része. *Sokfajta* van belőle, ezeket tárgyaljuk majd\n",
    " * Egy **blokk** (block) pedig *nulla vagy több állítás* csoportja egy `{}`-n belül  \n",
    "    > **Fontos:** C#-ban minden állítás helyére lehet blokkot írni (és fordítva)\n",
    " * Az adatok amiket létrehozunk, lehetnek **primitívek** (`2`, `'c'`, `false`) vagy **komplexek** (*tárgyak*, struktúrák)\n",
    " * A komplex adatok *részadatait* **tulajdonságoknak** nevezzük.\n"
   ]
  },
  {
   "attachments": {},
   "cell_type": "markdown",
   "metadata": {
    "slideshow": {
     "slide_type": "subslide"
    }
   },
   "source": [
    "\n",
    "##### Változók\n",
    "\n",
    "*Változóknak* nevezzük azokat a tárgyakat amikben értéket tudunk tárolni.  \n",
    "Minden változót legalább egyszer (*legelőször*) el kell nevezni (**deklarálás**) használatuk előtt.  \n",
    "Próbálj **jól leíró** neveket használni (pl. `iSzam`, `sKeresztnev`, `tPerc`),\n",
    "és az ideiglenes változóknak adni a random neveket (pl. `x`, `y`, `i`, `temp`, `elem`).  \n",
    "Ha lehet kerüld az angol ábécén kívüli karaktereket, nem lehet tudni mikor lesz rossz.\n",
    "\n",
    "A Csharp kulcsszavait (`if`, `else`, `return`, `using`, `class`) NEM lehet névként használni,  \n",
    "sem számokat legelső karakternek (pl. `123filmek`),  \n",
    "sem speckó karaktereket (`$:;?,%!+\"'`) egyáltalán, kivétel ez alól az alsóvonás (`_`).\n",
    "\n",
    "Syntax:      \n",
    "```csharp\n",
    "Ttípus név;           //  <-  deklarálás (elnevezés)\n",
    "Ttípus név = érték;   //  <-  deklarálás és értékadás\n",
    "név = érték;          //  <-  csak értékadás\n",
    "név                   //  <-  érték lekérés\n",
    "```\n"
   ]
  },
  {
   "cell_type": "code",
   "execution_count": null,
   "metadata": {
    "dotnet_interactive": {
     "language": "csharp"
    },
    "vscode": {
     "languageId": "polyglot-notebook"
    }
   },
   "outputs": [],
   "source": [
    "int iSzám;                      // sokak által használt nevezés:    típus első betűje a név elején, utána a szótagok nagyonNagyBetűsek (camelCase)\n",
    "char asd;                       // :/   nem lehet tudni mi a feladata\n",
    "int iSzámÉrtékkel = 16;\n",
    "iSzám = 26;                     //  értékadás\n",
    "// iNemLétezőVáltozó = 90;      //  <-  HIBA!    Nem volt elnevezve (deklarálva)!\n",
    "iSzám = 29 + 1;                 //  értékadás művelettel. Bármilyen művelettel lehet értéket adni (amennyiben a típusa jó)"
   ]
  },
  {
   "attachments": {},
   "cell_type": "markdown",
   "metadata": {
    "slideshow": {
     "slide_type": "fragment"
    }
   },
   "source": [
    "##### Kommentek és whitespace\n",
    "\n",
    "A **kommenteket** és a **whitespace**t teljesen figyelmen kívül hagyja a fordítóprogram,  \n",
    "nem avatkoznak bele a futásba.  \n",
    "\n",
    "A **whitespace** egy gyűjtőfogalom az összes, *szemmel láthatatlan* szöveget alkotó **térelemre**.  \n",
    "Ide tartozik a **szóköz** *(space, innen a név)*, **újsor** és a **tabulátor**.\n",
    "\n",
    "A C# NEM **whitespace-érzékeny**, tehát a program működése **nem változik**, ha a kifejezések között *whitespace* van.\n",
    "\n",
    "Ezen okból a **kommentek** és a **whitespace** *dokumentálásra*, sorok *hatástalanítására*  \n",
    "és az *olvashatóság* növelésére alkalmas.\n",
    "\n",
    "Syntax:      \n",
    "```csharp\n",
    "  // egysoros komment\n",
    "\n",
    "        /* több-\n",
    "               soros\n",
    "                   komment\n",
    "        eleje: /*     vége: */\n",
    "\n",
    "static           void                  Main()\n",
    "    // ↓ (felesleges) whitespace ↑\n",
    "\n",
    "{\n",
    "    Console.WriteLine(    // <- whitespace-el olvashatóbb\n",
    "        \"Helló világ!\"\n",
    "    );\n",
    "}\n",
    "```"
   ]
  },
  {
   "attachments": {},
   "cell_type": "markdown",
   "metadata": {},
   "source": [
    "## 3. Adattípusok\n",
    "\n",
    "Többféle adatot tudunk tárolni, és fontos hogy meg lehessen határozni őket.  \n",
    "Egy elnevezett változónak csak egyféle típusa lehet.\n",
    "\n",
    "Egyes primitív értékeket mi **szószerint** is be tudunk gépelni a programba,  \n",
    "ezeket nevezzük **literáloknak** (szó jelentéséből fakadóan).\n",
    "\n",
    "A következő listában alaptípusok lesznek, ezek értékeit literálként meg tudjuk adni:  \n",
    "*(❗: megjegyzés; 🔢: értékei)*\n",
    "- *int* = egészszám *(System.Int32)*  \n",
    "    *🔢*     Range: `-2147483648`-tól  `2147483647`-ig\n",
    "\n",
    "- *decimal* = tizedestört gyüjtőfogalom *(System.Decimal)*\n",
    "\n",
    "- *float* = törtszám lebegőponttal *(System.Single)*  \n",
    "    *🔢*    Range: `-3.402823e38f`-tól `3.402823e38f`-ig (KELL az '`f`')  \n",
    "    *❗*    kevésbé pontos (ld. [itt (docs.microsoft.com)](https://docs.microsoft.com/en-us/dotnet/api/system.single?view=net-6.0#:~:text=Two%20floating%2Dpoint%20numbers)).\n",
    "\n",
    "- *double* = törtszám lebegőponttal, pontosabb *(System.Double)*  \n",
    "    *🔢*     Range: `-1.79769313486232e308`-tól `1.79769313486232e308`-ig (`..eX` a tizes hatványt jelenti)\n",
    "\n",
    "- *bool* = Boolean igaz-hamis  \n",
    "    *🔢*     Csak `true` (igaz) vagy `false` (hamis)\n",
    "\n",
    "- *char* = egyetlen karakter **felsővesszőkön** belül  \n",
    "    *🔢*     pl. `'c'`\n",
    "\n",
    "- *string* = karakterlánc avagy szöveg **idézőjeleken** belül  \n",
    "    *🔢*     pl. `\"Helló Világ!\"`\n",
    "\n",
    "- *var* = futáskor értelmezett típus  \n",
    "    *❗*     CSAK akkor használható, ha egyértelműen **egyfajta típus** lesz belőle!\n",
    "\n",
    "- *void* = értéktelen változó  \n",
    "    *❗*     CSAK egy **visszérték** lehet ilyen típusú (azaz nem ad vissza semmit)"
   ]
  },
  {
   "cell_type": "code",
   "execution_count": null,
   "metadata": {
    "dotnet_interactive": {
     "language": "csharp"
    },
    "vscode": {
     "languageId": "polyglot-notebook"
    }
   },
   "outputs": [],
   "source": [
    "int iSzámocska = 66666666;\n",
    "// int iSzámocska = 12345678;   //  <-  HIBA!   kétszer ne deklaráljunk\n",
    "float fPi = 3.14f;              // ha float akkor kell a szám után egy 'f'!!\n",
    "bool anyukádMegvolt = true;     // true = igaz; false = hamis\n",
    "char cBéBetű = 'b';             // CSAK egy karaktert vesz be, különben HIBA\n",
    "string sLeghosszabb = \"eltöredezettségmentesítőtleníttethetetlenségtelenítőtlenkedhetnétek\";"
   ]
  },
  {
   "attachments": {},
   "cell_type": "markdown",
   "metadata": {},
   "source": [
    "## 4. Első C# Program\n",
    "\n",
    "A VS előregenerál egy alap fájlt mikor új projektet kezdesz, amiben csak a program futásához szükséges\n",
    "sorok szerepelnek.\n",
    "\n",
    "> Ha VSCode-ot használsz, plusz egy lépés a konzolba beírni hogy `dotnet new console` (vagy amilyen típust szeretnél a *console* helyett).\n",
    "\n",
    "> **Update:** Az új .NET 6.0 rendszer miatt nem *muszály* kiírni a teljes kód testét, csak a top-level eljárások elegendőek.  \n",
    ">Emiatt a default fájl is leszűkült a 'Hello World!' sorra :/\n",
    "\n",
    "Az alap program így fog kinézni:\n",
    "\n",
    "```csharp\n",
    "using System;\n",
    "\n",
    "namespace MyApp // Note: actual namespace depends on the project name.\n",
    "{\n",
    "    internal class Program\n",
    "    {\n",
    "        static void Main(string[] args)\n",
    "        {\n",
    "            Console.WriteLine(\"Hello World!\");\n",
    "        }\n",
    "    }\n",
    "}\n",
    "```"
   ]
  },
  {
   "attachments": {},
   "cell_type": "markdown",
   "metadata": {},
   "source": [
    "##### Futtatás\n",
    "\n",
    "Az **eljárások** összegyüjtött, bármennyiszer hívható kódgyűjtemények, melyek segítik a program haladását és olvashatóságát.\n",
    "\n",
    "Egy futtatható C# programnak *(nem könyvtár)* **tartalmaznia kell**  `Main()`  eljárást, mivel ebben kezdődik a program **igazi** futása.  \n",
    "*(ezt nevezik **entry point**-nak)*\n",
    "\n",
    "A többi részét a programnak később érdemes átvenni.\n",
    "\n",
    "Miután futtatod, egy **parancssor** *(terminál)* megjelenik, amiben működik a program."
   ]
  },
  {
   "attachments": {},
   "cell_type": "markdown",
   "metadata": {},
   "source": [
    "## 5. Kiírás és beolvasás, kényszerítés\n",
    "\n",
    "##### Kiírás\n",
    "A legtöbb appnak van **bemenete** és **kimenete**.\n",
    "\n",
    "Kiíráshoz legeslegtöbbször a `Console.Write()` vagy `Console.WriteLine()` eljárást használjuk.  \n",
    "A kiírandó értéket a **zárójelek belsejébe** rakjuk.\n"
   ]
  },
  {
   "cell_type": "code",
   "execution_count": null,
   "metadata": {
    "dotnet_interactive": {
     "language": "csharp"
    },
    "vscode": {
     "languageId": "polyglot-notebook"
    }
   },
   "outputs": [],
   "source": [
    "int harom = 3;                                   // egy példa változó, deklarálva\n",
    "Console.WriteLine(\"Hello World!\");                    // string literal\n",
    "Console.WriteLine(6 + 5);                        // kifejezés értékét a program kiszámolja\n",
    "Console.WriteLine(true);                              // bool\n",
    "Console.WriteLine('c');                               // char literal\n",
    "Console.WriteLine(harom);                        // változó értéke\n",
    "Console.WriteLine(\"Három, avagy {0}\",harom);     // formatálás\n",
    "Console.WriteLine(\"Három, avagy \" + harom);      // lánccsatolás (concatenation)\n",
    "Console.WriteLine($\"Három, avagy {harom}\");      // formatálás 2.0"
   ]
  },
  {
   "attachments": {},
   "cell_type": "markdown",
   "metadata": {},
   "source": [
    "##### Beolvasás\n",
    "Beolvasáshoz pedig a `Console.ReadLine()`-t vagy `Console.ReadKey()`-t használjuk.\n",
    "\n",
    "Mivel **visszaad** _(return-ol)_ egy értéket (és el akarjuk tárolni), **változóba tároljuk**.\n",
    "\n",
    "És vigyázat! Ez a *funkció* (eljárás) csak `string` értékként adja vissza a bemenetet.  \n",
    "Ezért fontos, ha számot kell belőle varázsolni, az `int.Parse()` eljárás segíthet.\n",
    "\n",
    "##### Típuskényszerítés\n",
    "Ha *alap* típusokkal dolgozunk észszerűen, akkor használhatunk **típuskényszerítés**t,  \n",
    "például `double`→`int` esetében (ekkor a törtrész elveszik!).\n",
    "\n",
    "Syntax:\n",
    "```csharp\n",
    "(Túj_típus)érték            //  <-  csak akkor működik, ha észszerű a kényszer.\n",
    "```"
   ]
  },
  {
   "cell_type": "code",
   "execution_count": null,
   "metadata": {
    "dotnet_interactive": {
     "language": "csharp"
    },
    "vscode": {
     "languageId": "polyglot-notebook"
    }
   },
   "outputs": [],
   "source": [
    "Console.WriteLine(\"Mi a neved?\");\n",
    "string sNév = Console.ReadLine();   // Az interaktív notebookban a ReadLine() nem működik!!!\n",
    "\n",
    "Console.WriteLine(\"Hány éves vagy?\");\n",
    "int iKor = Convert.ToInt32(Console.ReadLine());                   // itt string->int kényszer HIBA lenne\n",
    "\n",
    "Console.WriteLine(\"Szia {0}, te {1} éves vagy\", sNév, iKor);"
   ]
  },
  {
   "cell_type": "code",
   "execution_count": null,
   "metadata": {
    "dotnet_interactive": {
     "language": "csharp"
    },
    "polyglot_notebook": {
     "kernelName": "csharp"
    },
    "vscode": {
     "languageId": "polyglot-notebook"
    }
   },
   "outputs": [],
   "source": [
    "Console.WriteLine(\"A 'c' karakter kódja: {0}\", (int)'c');           // char->int; ASCII kód\n",
    "Console.WriteLine(\"A '3.1415' egész számként: {0}\",(int)3.1415);    // decimal->int; a törtrész elvész"
   ]
  },
  {
   "attachments": {},
   "cell_type": "markdown",
   "metadata": {},
   "source": [
    "## 6. Operátorok\n",
    "\n",
    "Egy operátor egy (vagy több) **karakter** ami *programlogikai*, *matematikai* vagy *logikai* feladatot lát el.  \n",
    "A **sorrendiség** követi a matematika elveit (*PEMDAS*). Továbbiakért lásd: [(docs.microsoft.com)](https://docs.microsoft.com/en-us/dotnet/csharp/language-reference/operators/#:~:text=with%20the%20highest-,precedence,-to%20the%20lowest).  \n",
    "A sorrend felülírható `()` zárójelekkel.\n"
   ]
  },
  {
   "attachments": {},
   "cell_type": "markdown",
   "metadata": {},
   "source": [
    "\n",
    "### Aritmetikai (számtani) opok\n",
    "\n",
    "Ezek adják a programozás számtani alapműveleteit.  \n",
    "\n",
    "| Megnevezés |    Operátor    | Példa   |\n",
    "| :--------  | :------------: | :----:  |\n",
    "| Összeadás | + | `x + y;`             |\n",
    "| Kivonás | - | `x - y;`               |\n",
    "| Szorzás | * | `x * y;`               |\n",
    "| Osztás *⭐* | / | `x / y;`           |\n",
    "| Moduló/Maradék | % | `x % y;`        |\n",
    "| Ellentett | - | `-x;`                |\n",
    "\n",
    "*⭐*:    Az osztásnál figyelembe kell venni a két tag típusát. `int`-et `int`-tel osztva elveszik a törtrész. Ekkor érdemes `double`-be vagy `float`-ba konvertálni először."
   ]
  },
  {
   "cell_type": "code",
   "execution_count": null,
   "metadata": {
    "dotnet_interactive": {
     "language": "csharp"
    },
    "vscode": {
     "languageId": "polyglot-notebook"
    }
   },
   "outputs": [],
   "source": [
    "int x = 11, y = 4;              // több változót is lehet deklarálni + beállítani egy sorban!\n",
    "Console.WriteLine(x+y);         // 15\n",
    "Console.WriteLine(x-y);         // 7\n",
    "Console.WriteLine(x*y);         // 44\n",
    "Console.WriteLine(x/y);         // 2.75     !DE AJJAJ! csak 2-t kapunk, hol a maradék?\n",
    "Console.WriteLine(x%y);         // 3        itt az egész osztásos maradék\n",
    "Console.WriteLine((double)x/y); // 2.75     típuskényszerítéssel\n",
    "Console.WriteLine(-x);          // -11"
   ]
  },
  {
   "attachments": {},
   "cell_type": "markdown",
   "metadata": {},
   "source": [
    "### Hozzárendelő opok\n",
    "\n",
    "Syntax:\n",
    "```csharp\n",
    "változó = érték;        //    <-    átírás\n",
    "változő += módosítás;   //    <-    módosítás\n",
    "```\n",
    "Az egyszerű **egyenlőségjel** (`=`) adja a hozzárendelést.\n",
    "\n",
    "Az első öt számtani operátort *(és a bitszintűeket is)* **össze lehet vonni** a hozzárendeléssel:\n",
    "-    +=\n",
    "-    -=\n",
    "-    *=\n",
    "-    /=\n",
    "-    %=\n",
    "\n",
    "Ezek egyenértékűek a `változó = változó Δ módosítás;` utasítással, persze mindegyik opra külön.\n"
   ]
  },
  {
   "attachments": {},
   "cell_type": "markdown",
   "metadata": {},
   "source": [
    "### Iteratív opok\n",
    "\n",
    "Az iteratív operátorok csak eggyel változtatják az értéket.\n",
    "\n",
    "| Megnevezés |    Operátor    | Példa  |\n",
    "| :--------  | :------------: | -----: |\n",
    "|Növelés | ++ | `x++;` `++x;`        |\n",
    "|Csökkentés | -- | `x--;` `--x;`     |\n",
    "\n",
    "Ezek pedig egyenértékűek a `változó = változó Δ 1;` utasítással, persze külön-külön.\n",
    "\n",
    "**Nem mindegy**, hogy *milyen sorrendben* van az iteratív op és a változó:\n",
    "* Ha a jel a név **előtt** van *(prefix)*, akkor először **változtat** aztán <u>adja vissza</u> a már változott értéket.  \n",
    "* Ha a jel a név **mögött** van *(postfix)*, akkor először a változó értékét <u>visszaadja</u>, majd **változtatja**."
   ]
  },
  {
   "cell_type": "code",
   "execution_count": null,
   "metadata": {
    "dotnet_interactive": {
     "language": "csharp"
    },
    "vscode": {
     "languageId": "polyglot-notebook"
    }
   },
   "outputs": [],
   "source": [
    "int x = 0;\n",
    "x += 5;         // x = 0 + 5    = 5\n",
    "x -= 1;         // x = 5 - 1    = 4\n",
    "x *= 3;         // x = 4 * 3    = 12\n",
    "x /= 6;         // x = 12 / 6   = 2\n",
    "x %= 3;         // x = 2 % 3    = 2\n",
    "Console.WriteLine(x++);     // először kiírja hogy 11; aztán növeli (x = 12)\n",
    "Console.WriteLine(++x);     // először növeli (x = 13) aztán kiírja: hogy 13\n",
    "Console.WriteLine(y--);     // 4        (y = 3)\n",
    "Console.WriteLine(--y);     // 2        (y = 2)"
   ]
  },
  {
   "attachments": {},
   "cell_type": "markdown",
   "metadata": {},
   "source": [
    "### Relációs opok\n",
    "\n",
    "Két érték **viszonyát** *(relációját)* fejezik ki, pont mint a matematikában.  \n",
    "Egy `bool`-értéket adnak vissza *(igaz-hamisat)*, ezért lehet **feltételként** használni őket.\n",
    "\n",
    "| Megnevezés |    Operátor    | Példa  |\n",
    "| :--------  | :------------: | -----: |\n",
    "| Nagyobb | > | `7 > 4` → true |\n",
    "| Nagyobb v. egyenlő | >= | `7 >= 4` → true |\n",
    "| Egyenlő | == | `\"abc\" == \"def\"` → false |\n",
    "| Kisebb v. egyenlő | <= | `7 <= 4` → false |\n",
    "| Kisebb | < | `7 < 4` → false |\n",
    "| Nem egyenlő | != | `\"abc\" != \"def\"` → true |\n"
   ]
  },
  {
   "attachments": {},
   "cell_type": "markdown",
   "metadata": {},
   "source": [
    "### Logikai opok\n",
    "Két `bool`-értéket *(igaz-hamisat)* értéket **kötnek össze** logikailag.  \n",
    "Funkciójuk megegyezik hétköznapi szóhasználatukkal.\n",
    "\n",
    "| Megnevezés |    Operátor    | Példa  |\n",
    "| :--------  | :------------: | -----: |\n",
    "| És | && | `true && false` → false |\n",
    "| Vagy | \\|\\| | `true \\|\\| false` → true |\n",
    "| Nem | ! | `!false` → true |\n"
   ]
  },
  {
   "attachments": {},
   "cell_type": "markdown",
   "metadata": {},
   "source": [
    "## 7. Logika, elágazások, ciklusok\n",
    "\n",
    "**Feltételes elágazásokra** van szükség, hogy a program egyes értékektől függjön.  \n",
    "Egy feltétel értéke biztosan `true` vagy `false`, tehát biztosan `bool` értékű.\n"
   ]
  },
  {
   "attachments": {},
   "cell_type": "markdown",
   "metadata": {},
   "source": [
    "\n",
    "##### `if-else` (Ha-Más)\n",
    "\n",
    "Az elágazások legalapvetőbb állítása. Hogyha a feltétel teljesül, a blokk lefut, ellenkező esetben nem.  \n",
    "\n",
    "Syntax:\n",
    "```csharp\n",
    "if (feltétel)\n",
    "{                    // ha van '{}' teste akkor nem kell pontosvessző\n",
    "    //ha igaz...\n",
    "}\n",
    "\n",
    "else if(feltétel)    // ez kiegészít egy 'if' mondatot; önmagában HIBA\n",
    "{\n",
    "    //ha az előző(k) hamis(ak), de ez igaz...\n",
    "}\n",
    "\n",
    "else                 // ez kiegészít egy 'if' mondatot; önmagában HIBA\n",
    "{\n",
    "    //ha az ezelőtti if(-ek is mind) hamis(ak)...\n",
    "}\n",
    "\n",
    "if (feltétel) return 1;    //  itt  az 'if' egysoros blokk-nélküli, KELL ';'\n",
    "```\n",
    "\n",
    "Külön operátorral tudunk egy **feltételes kifejezést** csinálni:  \n",
    "> *Fun fact:* Ez az egyetlen három-paraméteres operátor, ezért *tertiary* op-nak is hívják.  \n",
    "```csharp\n",
    "feltétel ? /*ha igaz*/ : /*ha hamis*/ ;        // ez egy KIFEJEZÉS azaz ÉRTÉKET AD VISSZA!\n",
    "    // pl. \n",
    "    Console.Write(feltétel?\"Jó\":\"Rossz\");\n",
    "    // u.a. mint\n",
    "    if (feltétel) Console.Write(\"Jó\");\n",
    "    else {Console.Write(\"Rossz\")};\n",
    "```\n",
    "\n",
    "A Ha-Más logikákat lehet egymás után kötni (chain-elni)\n",
    "```csharp\n",
    "if (felt1) {\n",
    "}\n",
    "else if (felt2) {\n",
    "}\n",
    "else if (felt3) {\n",
    "}\n",
    "//...\n",
    "else {\n",
    "}\n",
    "```\n",
    "\n"
   ]
  },
  {
   "cell_type": "code",
   "execution_count": null,
   "metadata": {
    "dotnet_interactive": {
     "language": "csharp"
    },
    "vscode": {
     "languageId": "polyglot-notebook"
    }
   },
   "outputs": [],
   "source": [
    "bool jólVagy = true;\n",
    "if (jólVagy == true)\n",
    "{\n",
    "    Console.WriteLine(\"Egészségedre!\");\n",
    "}\n",
    "else\n",
    "{\n",
    "    Console.WriteLine(\"Jobbulást!\");\n",
    "}"
   ]
  },
  {
   "cell_type": "code",
   "execution_count": null,
   "metadata": {
    "dotnet_interactive": {
     "language": "csharp"
    },
    "vscode": {
     "languageId": "polyglot-notebook"
    }
   },
   "outputs": [],
   "source": [
    "int iSzám = 16;/*<==szerkessz meg*/\n",
    "if(iSzám % 2 == 0)      // értelmezés:   ha a (szám kettes maradéka) == nulla, azaz osztható kettővel\n",
    "{\n",
    "    Console.WriteLine(\"{0} osztható kettővel.\", iSzám);\n",
    "    if (iSzám % 4 == 0)                                         // egymásba is lehet rakni elágazásokat\n",
    "        Console.WriteLine(\"{0} néggyel is osztható.\", iSzám);   // \"egysoros\"\n",
    "} \n",
    "else if(iSzám == 1)     // az else csak akkor nem dob hibát egyedül, ha utána 'if' vagy '{}' van\n",
    "{\n",
    "    Console.WriteLine(\"{0} == egy.\", iSzám);\n",
    "}\n",
    "else                    // itt '{}' van utána\n",
    "{\n",
    "    Console.WriteLine(\"Nem egy és nem osztható kettővel\");\n",
    "}"
   ]
  },
  {
   "attachments": {},
   "cell_type": "markdown",
   "metadata": {},
   "source": [
    "##### Elágazások megszakítása\n",
    "\n",
    "Mégmielőtt a **switchet** és a **hurkokat** tárgyalnánk, egy pár szót az elágazások **megszakításairól**:\n",
    "\n",
    "Három kulcsszó létezik C#-ban, amivel **ki lehet lépni** egy *elágazásból*.  \n",
    "Ezek pedig: `continue;`, `break;`, `return x;`.\n",
    "\n",
    "* A `continue;` egy ciklusban az **adott kört nem fejezi be**, azonnal visszaugrik a ciklus **elejére**.\n",
    "* A `break;` **teljesen kilép** az adott ciklusból, elágazásból.\n",
    "* A `return érték;` pedig az adott **eljárásból lép ki**, és *visszaad* a szülőfolyamatnak egy `érték`et.  \n",
    "    A `return` CSAK az eljárás **visszatérési érték** *(visszérték)* típusban adhat visza értéket!\n"
   ]
  },
  {
   "attachments": {},
   "cell_type": "markdown",
   "metadata": {},
   "source": [
    "##### Switch\n",
    "\n",
    "Ha túl sok **egyenlőséget** néznél meg egy változóra nézve, használd a `switch` elágazást.  \n",
    "A `switch` egy kifejezést **különféle értékekkel** vet össze, és aszerint végez műveleteket.\n",
    "\n",
    "Syntax:\n",
    "```csharp\n",
    "switch (vált)                  \n",
    "{\n",
    "    case 1:\n",
    "        // if (vált == 1)\n",
    "        break;                // FONTOS!!! \n",
    "    case 2:\n",
    "        // else if (vált == 2)\n",
    "        break;\n",
    "    case 3:\n",
    "        // else if (vált == 3)\n",
    "        break;\n",
    "    //...\n",
    "    case n:\n",
    "        // else if (vált == n)\n",
    "        break;\n",
    "    default:\n",
    "        // else\n",
    "        break;\n",
    "}\n",
    "```\n",
    "\n",
    "Tehát: sok, egy kifejezésre értett `if-else` logikát könnyebben felírhatunk egy `switch` sok esetével (`case x:`).  \n",
    "A `default` eset akkor megy végbe, ha egyik eset sem volt igaz.\n",
    "\n",
    "> **Fontos:** A `break;`-ek nélkül átcsúszna a program **másik esetekbe** (a compiler ezt hibaként jelzi),  \n",
    "> de elfogadható és működőképes megközelítés."
   ]
  },
  {
   "cell_type": "code",
   "execution_count": null,
   "metadata": {
    "dotnet_interactive": {
     "language": "csharp"
    },
    "vscode": {
     "languageId": "polyglot-notebook"
    }
   },
   "outputs": [],
   "source": [
    "int x = 4;\n",
    "switch (x)\n",
    "{\n",
    "    case 1:\n",
    "        Console.WriteLine(\"x az egy.\");\n",
    "        break;\n",
    "    case 2:\n",
    "        Console.WriteLine(\"x az kettő.\");\n",
    "        break;\n",
    "    case 3:\n",
    "        Console.WriteLine(\"x az három.\");\n",
    "        break;\n",
    "    case 4:\n",
    "        Console.WriteLine(\"x az négy.\");\n",
    "        break;\n",
    "    case 5:\n",
    "        Console.WriteLine(\"x az öt.\");\n",
    "        break;\n",
    "    default:\n",
    "        Console.WriteLine(\"x valami más.\");\n",
    "        break;\n",
    "}"
   ]
  },
  {
   "attachments": {},
   "cell_type": "markdown",
   "metadata": {},
   "source": [
    "### Ciklusok\n",
    "\n",
    "**Ciklusoknak** nevezzük az ismétlődő elágazásokat, amik *egy feltételen* alapszanak.  \n",
    "Ciklusokból háromféle van: `while`, `for`, és `foreach`."
   ]
  },
  {
   "attachments": {},
   "cell_type": "markdown",
   "metadata": {},
   "source": [
    "\n",
    "##### `while` (amíg) és `do..while` (csináld..amíg)\n",
    "A `while`-ciklus a legegyszerűbb fajta: **ellenőrzi** a feltételt; ha igaz, akkor lefut a blokk, majd *kezdi elölről*.  \n",
    "Hogyha *feltétel-ellenőrzést* a **végén** szeretnénk tenni, használjuk a `do..while` formát\n",
    "\n",
    "Syntax:\n",
    "```csharp\n",
    "while (feltétel)\n",
    "{\n",
    "    // valami... amíg feltétel az igaz\n",
    "}                                          // nincs ';'\n",
    "\n",
    "do\n",
    "{\n",
    "    //a 'csináld..amíg' ciklus minimum egy kört lefut!\n",
    "} while (feltétel);                        // pontosvessző!\n",
    "```\n"
   ]
  },
  {
   "cell_type": "code",
   "execution_count": null,
   "metadata": {
    "dotnet_interactive": {
     "language": "csharp"
    },
    "vscode": {
     "languageId": "polyglot-notebook"
    }
   },
   "outputs": [],
   "source": [
    "int max = 10;\n",
    "int a = 0;\n",
    "while (a <= max)\n",
    "{\n",
    "    Console.WriteLine(a);\n",
    "    a = a + 1;\n",
    "}\n",
    "\n",
    "do\n",
    "{\n",
    "    a = a - 1;\n",
    "    Console.WriteLine(a);\n",
    "} while (a >= 0);"
   ]
  },
  {
   "attachments": {},
   "cell_type": "markdown",
   "metadata": {},
   "source": [
    "##### `for` (iteratív ciklus)\n",
    "\n",
    "A `for`-ciklus eggyel bonyolultabb, itt két extra dolgot kell figyelembe venni:  \n",
    "- Az **init** rész a *ciklus kezdete* **előtt** lefut, itt általában *ideiglenes változó-deklarálás* szokott lenni.  \n",
    "- A **körvége** pedig minden lefutott kör végén kerül futtatásra.\n",
    "\n",
    "Általában *tömbökön keresztüli* **indexelt** *(sorszám-szükséges)* feladatokra használjuk.\n",
    "\n",
    "Syntax:\n",
    "```csharp\n",
    "for ( /*init*/ int i = 0; feltétel; /*körvége*/ i++)        //két ';' az elválasztó\n",
    "{\n",
    "    //amíg a feltétel..\n",
    "}\n",
    "```"
   ]
  },
  {
   "cell_type": "code",
   "execution_count": null,
   "metadata": {
    "dotnet_interactive": {
     "language": "csharp"
    },
    "vscode": {
     "languageId": "polyglot-notebook"
    }
   },
   "outputs": [],
   "source": [
    "string sDolog = \"Hello!\";\n",
    "for (int i = 0;i<sDolog.Length;i++)                     // 'i' egy ideiglenes iterátor (sorszám lesz), \n",
    "{                                                       // növekszik egészen sDolog hosszáig kizárólag\n",
    "\n",
    "    Console.WriteLine(sDolog[i]);                       // a szöveg betűit egyenként írjuk ki\n",
    "    \n",
    "}"
   ]
  },
  {
   "attachments": {},
   "cell_type": "markdown",
   "metadata": {},
   "source": [
    "##### `foreach` (tárgyiteratív ciklus)\n",
    "\n",
    "A `foreach` a for-ciklus továbbfejlesztett, általánosabb verziója.  \n",
    "Ezt akkor használjuk, ha egy tömb összes elemét akarjuk hasznosítani (sorszám nélkül).\n",
    "\n",
    "A \"két\" paramétere, `in` kulcsszóval elválasztva:\n",
    "- Egy ideiglenes változó deklarálása (`Ttípus ideigl`)  \n",
    "    > Típusra használhatjuk a `var` szót (a program eldönti futás közben, melyik típus legyen)\n",
    "- A tömb, aminek az elemeit vizsgáljuk\n",
    "\n",
    "Syntax:\n",
    "```csharp\n",
    "foreach(var ideigl in tömb)\n",
    "{\n",
    "    // utasítások az 'ideigl' felhasználásával\n",
    "}"
   ]
  },
  {
   "cell_type": "code",
   "execution_count": null,
   "metadata": {
    "dotnet_interactive": {
     "language": "csharp"
    },
    "polyglot_notebook": {
     "kernelName": "csharp"
    },
    "vscode": {
     "languageId": "polyglot-notebook"
    }
   },
   "outputs": [],
   "source": [
    "string[] sorok = {\"Az első sor\", \"A második sor\"};\n",
    "foreach(var elem in sorok)              // értsd: a 'sorok' tömb összes elemére...\n",
    "{\n",
    "    Console.WriteLine(elem);            // egyik elem kiírása\n",
    "}"
   ]
  },
  {
   "attachments": {},
   "cell_type": "markdown",
   "metadata": {},
   "source": [
    "## 8. Eljárások\n",
    "\n",
    "**Eljárásokat** készíthetünk újra és újra szükséges feladatokra.  \n",
    "A .NET alap könyvtáraiban ilyen *egyszerűsített*, *ember-barát* funkciókat találtunk már (pl: `Console.WriteLine()`, `int.Parse()`).  \n",
    "Egy eljárást **bármennyiszer** hívhatunk.  \n",
    "A **nevekre** is ugyanúgy vonatkozik a *változókra vonatkozó szabályzat*.  \n",
    "\n",
    "Egy eljárás általánosan így néz ki:\n",
    "```csharp\n",
    "Tvisszérték Név(T paraméter1, U paraméter2, ...)   //deklarálás\n",
    "{\n",
    "    //eljárás teste\n",
    "}\n",
    "\n",
    "Név(param1, param2)                                //hívás\n",
    "```  \n",
    "ahol:\n",
    "- az eljárás *paraméterei* a zárójelén belül, vesszővel elválasztva vannak\n",
    "- az eljárás *utasításai* a blokkján belül tartózkodnak\n",
    "- az eljárásnak `Tvisszérték`-et kell *visszaadnia* visszatérésekor.  \n",
    "    Hogyha a *visszérték típusa* `void`, akkor nem kell visszaadnia semmit (**nem kell** `return;`).\n",
    "\n",
    "A paramétereket lehet **opcionálisnak** állítani, ha megadjuk előre a *default* értékét,  \n",
    "vagy akár lehet *névszerint* is beírni:\n",
    "```csharp\n",
    "static void Duplázás(int x, int y=2, int z) {/* ... */}\n",
    "\n",
    "// main():\n",
    "int iRes = Duplázás(z: 7, x: 18);        //a paraméterek:    x = 18; y = 2; z = 7;\n",
    "```\n"
   ]
  },
  {
   "attachments": {},
   "cell_type": "markdown",
   "metadata": {},
   "source": [
    "##### Pass by value, reference, output\n",
    "\n",
    "A C# három féleképpen tudja **átadni az adatokat**:\n",
    "- mint *érték*\n",
    "- mint *referencia*\n",
    "- mint *kimenet*\n",
    "\n",
    "Alapból **értékként** adja tovább a paramétereket (nem a változókat adja, hanem az értékeiket),  \n",
    "de a `ref` kulcsszóval lehet **referenciaként** az objektumokat bevinni az eljárásokba.  \n",
    "**Kimenetként** pedig az `out` kulcsszóval lehet, így a paraméterek inkább *kiadnak* adatot mintsem betesznek."
   ]
  },
  {
   "cell_type": "code",
   "execution_count": null,
   "metadata": {
    "dotnet_interactive": {
     "language": "csharp"
    },
    "vscode": {
     "languageId": "polyglot-notebook"
    }
   },
   "outputs": [],
   "source": [
    "static void Sqr(int x) => (x*x);\n",
    "static void SqrRef(ref int x) {x = x * x;}\n",
    "static void GetThis(out int x, out int y) {x = 5; y = 10;}\n",
    "\n",
    "int iEredet = 3;\n",
    "Sqr(iEredet);                                       //      csak az érték kerül be a funkcióba\n",
    "Console.WriteLine(iEredet);                         // 3;   az eredeti változóban nem módosul\n",
    "\n",
    "SqrRef(ref iEredet);                                //      most maga az 'x' változó került be referenciaként\n",
    "Console.WriteLine(iEredet);                         // 9;   az eredeti változóban\n",
    "\n",
    "int a, b;                                           // a kimeneti paramétereket nem muszály inicializálni (értéket adni neki), hiszen úgysem használjuk\n",
    "GetThis(out a, out b);                              // a = 5; b = 10 mostmár\n",
    "Console.WriteLine(\"a = {0}, b = {1}\", a, b);"
   ]
  },
  {
   "attachments": {},
   "cell_type": "markdown",
   "metadata": {},
   "source": [
    "##### Rekurzió\n",
    "\n",
    "A **rekurzió** fontos feladata lehet egy eljárásnak. \"Rekurzió\" jelentése: *önmagát hívó*.  \n",
    "Példának a faktoriális definíciója:    `4! = 4 * 3 * 2 * 1 = 24`\n",
    "\n",
    "Ezt megvalósítani nem nehéz, csak *önmagát hívatni kell*, és kell írni egy *kilépési feltételt*.  \n",
    "*(vagy örökké fut a program, újabb és újabb forkot nyitva = amatőr fork bomb)*"
   ]
  },
  {
   "cell_type": "code",
   "execution_count": null,
   "metadata": {
    "dotnet_interactive": {
     "language": "csharp"
    },
    "vscode": {
     "languageId": "polyglot-notebook"
    }
   },
   "outputs": [],
   "source": [
    "static int Fact(int szam)\n",
    "{\n",
    "    if (szam <= 1) return 1;\n",
    "    return szam * Fact(szam - 1);   // vagy egysorosan:      return (szam <= 1) ? 1 : szam * Fact(szam - 1);\n",
    "}\n",
    "\n",
    "int iSzám = 4;\n",
    "Console.WriteLine(Fact(iSzám));"
   ]
  },
  {
   "attachments": {},
   "cell_type": "markdown",
   "metadata": {},
   "source": [
    "##### Túltöltés\n",
    "\n",
    "**Túltöltés**nek nevezik azt a jelenséget, ahol egy eljárásnak több paraméteres változata van.  \n",
    "Ugyan az a név, de **különböző** paraméterekkel!  \n",
    "Ez akkor hasznos, ha egy általános funkciót *több típusra* szeretnénk alkalmazni.\n",
    "\n",
    "Egyes **operátorokat** *osztályokban* túl lehet tölteni, az `operator` kulcsszavat beillesztve az op elé.  \n",
    "Ezeket lehet túltölteni: *aritmetikai* opok (`+`, `-`, `*`, `/`); *relációs* opok (`<`, `>`, `==`, `!=`, `x^y`); bitszintű opok (`<<`, `>>`, `&`, `|`);   \n",
    "azaz az elsődleges és másodlagos opok nagyrésze.  \n",
    "Viszont egyes opokat tilos és lehetetlen túltölteni, mint: `x = y`, `x.y`, `c ? t : f`, `new`, `switch`, `delegate`, és sok más  \n",
    "(lásd [Túltölthető operátorok (docs.microsoft.com)](https://docs.microsoft.com/en-us/dotnet/csharp/language-reference/operators/operator-overloading#overloadable-operators))\n",
    "```csharp\n",
    "class Valami\n",
    "{\n",
    "    public int operator+ (int param1, int param2) {/* dolgok */} // azaz: param1 + param2\n",
    "    public int operator- (int param1) {}                         // -param1 \n",
    "    public int operator- (int param1, int param2) {}             // param1-param2\n",
    "}\n",
    "```"
   ]
  },
  {
   "cell_type": "code",
   "execution_count": null,
   "metadata": {
    "dotnet_interactive": {
     "language": "csharp"
    },
    "vscode": {
     "languageId": "polyglot-notebook"
    }
   },
   "outputs": [],
   "source": [
    "static void Kiír(int a) {Console.WriteLine(\"Érték: \" + a);}         // szöveg csatolása '+'-szal\n",
    "static void Kiír(double a) {Console.WriteLine(\"Érték: \" + a);}\n",
    "static void Kiír(string cím, double a) {Console.WriteLine(cím + a);}\n",
    "\n",
    "Kiír(15);\n",
    "Kiír(7.13);\n",
    "Kiír(\"Ez itt \", 9.9999999);"
   ]
  },
  {
   "attachments": {},
   "cell_type": "markdown",
   "metadata": {},
   "source": [
    "## 9. Tömbök és Stringek\n",
    "\n",
    "\n",
    "### Tömbök\n",
    "\n",
    "Hogyha több, *egyfajtájú* változót akarnánk csoportosítani, szükségünk van **tömbökre**.\n",
    "\n",
    "Az `Array` (tömb) osztály **egytípusú** értékeket csoportosít *egy név* alatt.  \n",
    "Az adatok egymás után, **sorban lesznek**, így mindegyik adathoz tartozik *egy sorszám (index)* **nullától kezdve**!  \n",
    "Ebből kifolyólag a sorszámok **soha nem érik el** a tömb elemszámát *(hosszát)*.\n",
    "\n",
    "Például négy darab egészet csoportosítva:\n",
    "\n",
    "| index:     | [0]  | [1]  | [2]  | [3]  |\n",
    "| :-:        | :--: | :--: | :--: | :--: |\n",
    "| int[] arr  | 16   | 2916 | 9999 | -414 |\n",
    "\n",
    "Deklarálhatjuk kétféleképpen: **adatokkal**, vagy **hosszal**.\n",
    "\n",
    "Syntax:\n",
    "```csharp\n",
    "típus[] név = {/*adatok*/};           // adatokkal deklarálás\n",
    "típus[] név = new típus[n];           // 'n' hoszú üres tömb deklarálás\n",
    "\n",
    "név[x]                                // előhívása:\n",
    "                                      // x indexű elem a név tömbből\n",
    "\n",
    "név.Length                            // tömb hosszának lekérése\n",
    "```\n",
    "\n",
    "Tömbökkel dolgozni sokféleképpen lehet, de a legalapabb módja az **iterálás** (minden egyes elemen keresztüli feldolgozás).  \n",
    "Ezt `for`-looppal tudjuk egyszerűen csinálni, ahol feltétel, hogy  \n",
    "az **i**deiglenes változónk *(itt: \"iterátor\")* kevesebb legyen, mint a tömb hossza (`tömb.Length`).  \n",
    "> **Fontos:** az iterátor változó értéke ne menjen túl a tömb hosszán (mivel nem létező elemeket kérne le)  \n",
    "> ezt nevezik túlcsordulásnak, ekkor HIBA\n",
    "\n",
    "```csharp\n",
    "int[] a = {1,2,3,4,5,6,7};            // a tömbünk (7 hosszú)\n",
    "\n",
    "for (int i = 0; i < a.Length; i++)    // létrehozunk egy 'i' ideiglenes változót ('i'terátort)\n",
    "{                                     // majd azt használjuk indexszámként,\n",
    "    Console.WriteLine(a[i]);          // így végigmegyünk a tömb minden elemén\n",
    "}\n",
    "```\n",
    "\n",
    "Ha index-iterátort nem akarunk használni, lehet `foreach`-ciklussal is.\n",
    "```csharp\n",
    "foreach (int elem in a)               // itt NEM kell '[]';\n",
    "{\n",
    "    Console.WriteLine(elem);\n",
    "}\n",
    "```"
   ]
  },
  {
   "cell_type": "code",
   "execution_count": null,
   "metadata": {
    "dotnet_interactive": {
     "language": "csharp"
    },
    "vscode": {
     "languageId": "polyglot-notebook"
    }
   },
   "outputs": [],
   "source": [
    "int[] intTömb = {10,16,21,35,47,55};\n",
    "int iSzumma = 0;\n",
    "\n",
    "foreach (var most in intTömb)\n",
    "{\n",
    "    iSzumma += most;                // összegszámítás\n",
    "}\n",
    "\n",
    "Console.WriteLine(iSzumma);"
   ]
  },
  {
   "attachments": {},
   "cell_type": "markdown",
   "metadata": {},
   "source": [
    "##### Tömb a tömbben?\n",
    "\n",
    "Egy tömb *több dimenziós* is lehet, és lehetnek a *tagjai tömbök is*, hiszen  \n",
    "a 'tömb' általánosított; bármilyen típust be tud fogadni.\n",
    "\n",
    "```csharp\n",
    "int[ , ] kétdim = new int[3,4];                // kétdimenziós tömb int-ekből\n",
    "int[,] valami = { {1, 2}, {12, 9}, {5, 6} };   // u.a. csak értékmegadással\n",
    "```\n",
    "Ez így nézne ki:\n",
    "\n",
    "|      | Oszlop1 | Oszlop2 | Oszlop3 | Oszlop4 |\n",
    "| :--- |  :---:  |  :---:  |  :---:  |  :---:  |\n",
    "| Sor1 | [0, 0]  | [0, 1]  | [0, 2]  | [0, 3]  |\n",
    "| Sor2 | [1, 0]  | [1, 1]  | [1, 2]  | [1, 3]  |\n",
    "| Sor3 | [2, 0]  | [2, 1]  | [2, 2]  | [2, 3]  |\n",
    "\n",
    "Ne féljünk *több*, *egybeágyazott* `for` vagy `foreach` loopot használni az **értelmezésükre**.\n",
    "\n",
    "Egy másik több-tömbös megoldás is létezik, ezek az **egyeletlen tömbök**.  \n",
    "Ezekben a fő-tömb tagjai ugyanúgy tömbök.\n",
    "```csharp\n",
    "int[][] egyeletlen = new int[][]    // két '[]'-t kell rakni!\n",
    "{                                   // és külön kell inicializálni (beállítani) ami itt példányosítással történik\n",
    "    new int[] {1,2,3,4},\n",
    "    new int[] {99, 98},\n",
    "    new int[] {10}\n",
    "}\n",
    "```\n",
    "\n",
    "A különbség a többdimenziós tömbök és az egyelentlen tömbök közt a **memóriahasználat**. \n",
    " \n",
    "* Egy *többdimenziós tömb* egy **megszakítatlan** memóriatér (egy *mátrix* basically)  \n",
    "    aminek *ugyanannyi oszlopa van minden sorban*.\n",
    "* Egy *egyeletlen tömb* pedig **tömböknek a tömbje**, így a memória *tömbönként eltérhet* (pl. eltérő hossz).\n",
    "\n"
   ]
  },
  {
   "attachments": {},
   "cell_type": "markdown",
   "metadata": {},
   "source": [
    "##### Fontos Array tulajdonságok\n",
    "\n",
    "Egypár fontos dolog az `Array` osztályból:\n",
    "```csharp\n",
    "int[] arr = {2, 4, 7};\n",
    "```\n",
    "- arr`.Length` megmondja a tömb hosszát (elemei számát).  \n",
    "    - fontos egy `for`-loopban!\n",
    "- arr`.Rank` pedig a dimenzióinak számát.\n",
    "- arr`.Max()` a legnagyobb elemet adja vissza,\n",
    "- arr`.Min()` a legkisebbet,\n",
    "- arr`.Sum()` az összegüket.\n",
    "\n",
    "Egypár **statikus** (csak az Array osztályból hívható) eljárás:\n",
    "- `Array.Sort(`arr`)` visszaad egy új, rendezett tömböt (amit el kell még menteni!!),\n",
    "- `Array.Reverse(`arr`)` pedig egy fordított sorrendűt.\n",
    "- `Array.ConvertAll(`arr`, `elj`)` visszaad egy eljárás alapján átírt tömböt,  \n",
    "    ahol az elemek az eljárás első paraméterébe illesztődnek be."
   ]
  },
  {
   "attachments": {},
   "cell_type": "markdown",
   "metadata": {},
   "source": [
    "### Stringek\n",
    "\n",
    "A megértés kedvéért könnyebb egy **stringre** *(karakterláncra)* úgy gondolni,  \n",
    "hogy az csupán egy *karakterekből álló tömb*; bár C#-ban már egy *általánosított osztály*."
   ]
  },
  {
   "cell_type": "code",
   "execution_count": null,
   "metadata": {
    "dotnet_interactive": {
     "language": "csharp"
    },
    "vscode": {
     "languageId": "polyglot-notebook"
    }
   },
   "outputs": [],
   "source": [
    "string asdfgh = \"hello\";\n",
    "string qwertz = new String(new char[] {'h', 'e', 'l', 'l', 'o', '\\x00'});\n",
    "/*  ugyanaz a két sor  */                                      /* ↑ ez egy kilépési karakter */\n",
    "// a kilépési karakterek '\\'-el kezdődnek, és kicserélődnek futáskor\n",
    "// itt a \\x00 egy null-karakterre cserélődik, ami a stringek híres lezáró karaktere\n",
    "Console.WriteLine(asdfgh);\n",
    "Console.WriteLine(qwertz);"
   ]
  },
  {
   "attachments": {},
   "cell_type": "markdown",
   "metadata": {},
   "source": [
    "##### Kontroll karakterek, Escape kódok\n",
    "\n",
    "Fontos megjegyezni hogy az ember-olvasható karaktereken kívül vannak *láthatatlan*, de  \n",
    "annál fontosabb karakterek. Ezeket **kontroll-karaktereknek** hívjuk.\n",
    "\n",
    "Közéjük tartozik például az *újsor*, *kocsivissza*, *null*, *csengő*, *tab*, etc.  \n",
    "Hogy ezeket *láthatóak*, *leírhatóak* legyenek, létrejöttek az **escape kódok** (escape sequence).\n",
    "\n",
    "*Használatuk*: egy **visszaperjel** és utána a jellemző kód (előző példák: `\\n`, `\\r`, `\\0`, `\\a`, `\\t`, ...)  \n",
    "Ha egy literális visszaperjel kell, csak írj duplát (`\\\\`), így nem lesz értelmezve véletlenül.\n",
    "\n",
    "További infó: [C# Stringek (docs.microsoft.com)](https://docs.microsoft.com/en-us/dotnet/csharp/programming-guide/strings/#string-escape-sequences), [Escape sorozatok (wikipedia.org)](https://en.wikipedia.org/wiki/ANSI_escape_code), és [Kontroll karakter (wikipedia.org)](https://en.wikipedia.org/wiki/Control_character)"
   ]
  },
  {
   "attachments": {},
   "cell_type": "markdown",
   "metadata": {},
   "source": [
    "##### Fontos String tulajdonságok\n",
    "\n",
    "Amikor egy `\"szöveget\"` írsz, akkor végülis egy String osztályú példányt hozol létre.  \n",
    "Ezért a *stringeknek* is van pár fontos **tulajdonságuk**:\n",
    "```csharp\n",
    "string st = \"halihó\";        // u.a. mint `string st = new string \"halihó\";`\n",
    "Console.WriteLine(st[2]);    // \"l\"\n",
    "```\n",
    "- st`.Length` a hosszát adja vissza. *(int)*\n",
    "- st`.Split(k)` visszaad egy karakteren szétválasztott `string`-tömböt. *(string[])*\n",
    "- st`.IndexOf(a)` a keresett érték legelső előfordulásának indexét adja vissza. *(int)*\n",
    "- st`.Insert(1, \"be\")` beilleszt egy szöveget a megadott indexnél kezdve, majd visszaadja. *(string)*\n",
    "- st`.Remove(2)` kitöröl minden karaktert indextől kezdve, majd visszaadja. *(string)*\n",
    "- st`.Replace(\"csere\", \"új\")` kicseréli a legelső **csere** szakaszt **új**ra, majd visszaadja. *(string)* \n",
    "- st`.Substring(i, x)` kivág egy **x** hosszúságú részletet **i**-től, majd visszaadja. *(string)*\n",
    "- st`.Contains(\"b\")` megnézi hogy benne van-e egy részlet a szövegben. *(bool)*\n",
    "\n",
    "Statikus eljárások:\n",
    "- `String.Concat(`a`, `b`)` csinál egy összevont szöveget (u.a. mint stringek közt a '+' operátor). *(string)*\n",
    "- `String.Equals(`a`, `b`)` ellenőrzi az azonosságot. *(bool)*"
   ]
  },
  {
   "attachments": {},
   "cell_type": "markdown",
   "metadata": {},
   "source": [
    "# Folytatás a `programozas_kozepfok` című fájlban\n",
    "\n",
    "Olyan érdekes témákkal mint:\n",
    "\n",
    "* névterek, osztályok, tárgyak\n",
    "* inheritancia és polimorfizmus (ami két fancy szó az *öröklésre* és a *sokoldalúságra*)\n",
    "* struktúrák, enumok\n",
    "* hibák (exceptionök)\n",
    "* fájlok\n",
    "* általánosítás (*fuck yes all my homies love generalizing*)\n",
    "* delegátok és anonim (lambda) eljárások\n",
    "* és még több érdekesség..."
   ]
  },
  {
   "attachments": {},
   "cell_type": "markdown",
   "metadata": {},
   "source": [
    "-----------------------\n",
    "# Licensz\n",
    "&copy; Daniel Adam Farkas 2023\n",
    "\n",
    "<a rel=\"license\" href=\"http://creativecommons.org/licenses/by-sa/4.0/\"><img alt=\"Creative Commons Lizenzvertrag\" style=\"border-width:0\" src=\"https://i.creativecommons.org/l/by-sa/4.0/88x31.png\" /></a><br />Dieses Werk ist lizenziert unter einer <a rel=\"license\" href=\"http://creativecommons.org/licenses/by-sa/4.0/\">Creative Commons Namensnennung - Weitergabe unter gleichen Bedingungen 4.0 International Lizenz</a>.\n",
    "\n",
    "<a rel=\"license\" href=\"http://creativecommons.org/licenses/by-sa/4.0/\"><img alt=\"Creative Commons License\" style=\"border-width:0\" src=\"https://i.creativecommons.org/l/by-sa/4.0/88x31.png\" /></a><br />This work is licensed under a <a rel=\"license\" href=\"http://creativecommons.org/licenses/by-sa/4.0/\">Creative Commons Attribution-ShareAlike 4.0 International License</a>."
   ]
  }
 ],
 "metadata": {
  "kernelspec": {
   "display_name": ".NET (C#)",
   "language": "C#",
   "name": ".net-csharp"
  },
  "language_info": {
   "file_extension": ".cs",
   "mimetype": "text/x-csharp",
   "name": "C#",
   "pygments_lexer": "csharp",
   "version": "9.0"
  },
  "orig_nbformat": 4,
  "vscode": {
   "interpreter": {
    "hash": "81794d4967e6c3204c66dcd87b604927b115b27c00565d3d43f05ba2f3a2cb0d"
   }
  }
 },
 "nbformat": 4,
 "nbformat_minor": 2
}
