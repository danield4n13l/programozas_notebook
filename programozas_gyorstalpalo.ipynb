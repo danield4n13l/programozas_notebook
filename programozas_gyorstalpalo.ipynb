{
 "cells": [
  {
   "cell_type": "markdown",
   "metadata": {},
   "source": [
    "Üdv\n",
    "======\n",
    "\n",
    "Ez egy interaktív-szerű tanuló füzet beépített *C#* kernellel, ami lehetővé teszi a sorok futtatását.  \n",
    "Próbáld ki nyugodtan, bár elsőre bonyolult lesz ([itt egy kis help](https://andrewlock.net/exploring-dotnet-interactive-notebooks/#:~:text=Installing%20.NET%20Interactive%20Notebooks)).  \n",
    "Ha PDF-ként kaptad meg, akkor másold ki a kódokat és futtasd offline/online, akár [_VSCode_](https://vscode.dev/)-ban.\n",
    "\n",
    "A *sorbeolvasást* és a *névtérdeklarálást* leszámítva minden más működik, ami kimenetet ad.\n",
    "\n",
    "Mivel nem teljes a sztori fejlesztés-oldalról és saját oldalról sem, ne lepődj meg  \n",
    "ha egy-két errort vagy bugot találsz. Előre bocs.\n",
    "\n",
    "A leckék sorrendje a Sololearn [(sololearn.com)](https://sololearn.com) [(Mobile)](https://sololearn.onelink.me/MfgO/19wol1x7) platformból lett átvéve, és átdolgozva az érthetőség érdekében. Néhány infót pedig TutorialsPoint [(tutorialspoint.com)](tutorialspoint.com), Microsoft .NET [(docs.microsoft.net)](https://docs.microsoft.com/en-us/dotnet/) és C# Tutorial [(csharptutorial.hu)](https://csharptutorial.hu/docs/hellovilag-hellocsharp/) oldalakról szedtem.  \n",
    "*(ez utóbbi úgy tűnhet, mintha ezt másoltam volna, ám nekem is a saját könyvem írása végén szembesültem ezzel a pacek weboldallal. Ajánlom mindenkinek!)*"
   ]
  },
  {
   "cell_type": "markdown",
   "metadata": {},
   "source": [
    "### 1.    C# avagy Csharp\n",
    "- OOP nyelv     = Tárgy-orientált        = \"Mindent generalizálni, instanciálni kell.\" xd\n",
    "- .NET keretrendszeren működőképes appokra szánt\n",
    "- Windows, web, mobil, szerver, adatbázis\n",
    "\n",
    "Az ember-olvasható programfájl kiterjesztése `.cs`.\n",
    "Ezt a fordító/összerakóprogram (a \"compiler\") a .NET könyvtárait felhasználva\n",
    "lefordítja futtatható programmá (`.exe` vagy `.dll` vagy etc.)."
   ]
  },
  {
   "cell_type": "markdown",
   "metadata": {},
   "source": [
    "### 2. Változók és Kommentek\n",
    "\n",
    "Mégmielőtt tárgyalnánk a legkönnyebb dolgokat, több dolgot leszögezek:\n",
    " * Egy **kifejezés** (expression) akkor kifejezés, ha futás közben *egy értékre* fejezhető ki. (például `19` vagy `int kettő = 2;`)\n",
    " * Egy **állítás** (statement) a program alapvető része. *Sokfajta* van belőle, ezeket tárgyaljuk majd\n",
    " * Egy **test** (block) pedig *nulla vagy több állítás* csoportja egy `{}`-n belül\n",
    "\n",
    "##### Változók\n",
    "\n",
    "*Változóknak* nevezzük azokat a tárgyakat amikben értéket tudunk tárolni.  \n",
    "Minden változót legalább egyszer (*legelőször*) el kell nevezni (**deklarálás**).  \n",
    "Próbálj **jól leíró** neveket használni (pl. `iSzam`, `sKeresztnev`, `tPerc`),\n",
    "és az ideiglenes változóknak adni a random neveket (pl. `x`, `y`, `i`, `temp`, `elem`).  \n",
    "Ha lehet kerüld az angol ábécén kívüli karaktereket, nem lehet tudni mikor lesz rossz.\n",
    "\n",
    "A Csharp kulcsszavait (`if`, `else`, `return`, `using`, `class`) NEM lehet nevekként használni,  \n",
    "sem számokat legelső karakternek (pl. `123filmek`),  \n",
    "sem speckó karaktereket (`$:;?,%!+\"'`) egyáltalán, kivétel ez alól az alsóvonás (`_`).\n",
    "\n",
    "Syntax:      \n",
    "```csharp\n",
    "Ttípus név;           //  <-  deklarálás (elnevezés)\n",
    "Ttípus név = érték;   //  <-  deklarálás és értékadás\n",
    "név = érték;          //  <-  csak értékadás\n",
    "név                   //  <-  érték vissza\n",
    "```\n",
    "\n",
    "##### Kommentek\n",
    "\n",
    "**Kommenteket** teljesen figyelmen kívül hagyja a fordítóprogram.  \n",
    "Ezen okból *dokumentálásra*, sorok *hatástalanítására* és az *olvashatóság* \n",
    "növelése érdekében megéri kommentelni.\n",
    "\n",
    "Syntax:      \n",
    "```csharp\n",
    "  // egysoros\n",
    "        /* több-\n",
    "          soros\n",
    "                        komment\n",
    "  */\n",
    "```"
   ]
  },
  {
   "cell_type": "code",
   "execution_count": null,
   "metadata": {
    "dotnet_interactive": {
     "language": "csharp"
    },
    "vscode": {
     "languageId": "polyglot-notebook"
    }
   },
   "outputs": [],
   "source": [
    "int iSzám;                      // sokak által használt nevezés:    típus első betűje a név elején, utána a szótagok nagyonNagyBetűsek (camelCase)\n",
    "char asd;                       // :/   nem lehet tudni mi a feladata\n",
    "int iSzámÉrtékkel = 16;\n",
    "iSzám = 26;                     //  értékadás\n",
    "// iNemLétezőVáltozó = 90;      //  <-  HIBA!    Nem volt elnevezve (deklarálva)!\n",
    "iSzám = 29 + 1;                 //  értékadás művelettel. Bármilyen művelettel lehet értéket adni (amennyiben a típusa jó)"
   ]
  },
  {
   "cell_type": "markdown",
   "metadata": {},
   "source": [
    "### 3. Adattípusok\n",
    "\n",
    "Többféle adatot tudunk tárolni, és fontos hogy meg lehessen határozni őket.  \n",
    "Egy elnevezett változónak csak egyféle típusa lehet.\n",
    "\n",
    "Itt egy pár beépített típus (System névtér):  \n",
    "- *int* = egészszám (System.Int32), range: `-2147483648` - `2147483647`\n",
    "\n",
    "- *float* = törtszám (System.Single) lebegőponttal, range: `-3.402823e38f` - `3.402823e38f` (KELL az '`f`')  \n",
    "nem annyira pontos (ld. [itt (docs.microsoft.com)](https://docs.microsoft.com/en-us/dotnet/api/system.single?view=net-6.0#:~:text=Two%20floating%2Dpoint%20numbers)).\n",
    "\n",
    "- *double* = törtszám (System.Double) lebegőponttal, pontosabb, range: `-1.79769313486232e308` - `1.79769313486232e308`\n",
    "\n",
    "- *bool* = Boolean igaz-hamis, range: `igaz`, `hamis`\n",
    "\n",
    "- *char* = egyetlen karakter **egyes** idézőjeleken belül, pl. `'c'`\n",
    "\n",
    "- *string* = karakterlánc avagy szöveg idézőjeleken belül, pl. `\"Helló Világ!\"`"
   ]
  },
  {
   "cell_type": "code",
   "execution_count": null,
   "metadata": {
    "dotnet_interactive": {
     "language": "csharp"
    },
    "vscode": {
     "languageId": "polyglot-notebook"
    }
   },
   "outputs": [],
   "source": [
    "int iSzámocska = 66666666;\n",
    "// int iSzám = 12345678;        //  <-  HIBA!   két ugyanolyan nevű változó nem létezhet\n",
    "float fPi = 3.14f;              // ha float akkor kell a szám után egy 'f'!!\n",
    "bool anyukádMegvolt = true;     // true = igaz; false = hamis\n",
    "char cBéBetű = 'b';             // CSAK egy karaktert vesz be, különben HIBA\n",
    "string sLeghosszabb = \"eltöredezettségmentesítőtleníttethetetlenségtelenítőtlenkedhetnétek\";"
   ]
  },
  {
   "cell_type": "markdown",
   "metadata": {},
   "source": [
    "### 4. Első C# Program\n",
    "\n",
    "A VS előregenerál egy alap fájlt mikor új projektet kezdesz, amiben csak a program futásához szükséges\n",
    "sorok szerepelnek.\n",
    "\n",
    "Ha VSCode-ot használsz, plusz egy lépés a konzolba beírni hogy `dotnet new console` (vagy amilyen típust szeretnél a *console* helyett).\n",
    "\n",
    "> Update:    Az új .NET 6.0 rendszer miatt nem *muszály* kiírni a teljes kód testét, csak a top-level eljárások elegendőek. Emiatt a default fájl is leszűkült a 'Hello World!' sorra :/\n",
    "\n",
    "Az alap program így fog kinézni:"
   ]
  },
  {
   "cell_type": "code",
   "execution_count": null,
   "metadata": {
    "dotnet_interactive": {
     "language": "csharp"
    },
    "vscode": {
     "languageId": "polyglot-notebook"
    }
   },
   "outputs": [],
   "source": [
    "using System;\n",
    "\n",
    "namespace MyApp // Note: actual namespace depends on the project name.\n",
    "{\n",
    "    internal class Program\n",
    "    {\n",
    "        static void Main(string[] args)\n",
    "        {\n",
    "            Console.WriteLine(\"Hello World!\");\n",
    "        }\n",
    "    }\n",
    "}"
   ]
  },
  {
   "cell_type": "markdown",
   "metadata": {},
   "source": [
    "Az eljárások összegyüjtött, bármennyiszer hívható kódgyűjtemények, melyek segítik a program haladását és olvashatóságát.  \n",
    "Egy futtatható C# program (nem könyvtár) MINDIG tartalmaz  `Main()`  eljárást, mivel ebben kezdődik a program **igazi** futása.\n",
    "\n",
    "A többi részét a programnak később érdemes átvenni.\n",
    "\n",
    "Miután futtatod, egy *parancssor* (terminál) megjelenik, amiben működik a program."
   ]
  },
  {
   "cell_type": "markdown",
   "metadata": {},
   "source": [
    "### 5. Kiírás és beolvasás, kényszerítés\n",
    "\n",
    "A legtöbb appnak kell *bemenet* és van *kimenete*.\n",
    "\n",
    "Kiíráshoz legeslegtöbbször a `Console.Write()` vagy `Console.WriteLine()` eljárást használjuk.  \n",
    "A kiírandó értéket a zárójelek belsejébe rakjuk. Az alaptípusok mindegyikét ki tudja írni.\n",
    "lásd:"
   ]
  },
  {
   "cell_type": "code",
   "execution_count": null,
   "metadata": {
    "dotnet_interactive": {
     "language": "csharp"
    },
    "vscode": {
     "languageId": "polyglot-notebook"
    }
   },
   "outputs": [],
   "source": [
    "int harom = 3;\n",
    "Console.WriteLine(\"Hello World!\");\n",
    "Console.WriteLine(6 + 5);\n",
    "Console.WriteLine(true);\n",
    "Console.WriteLine('c');\n",
    "Console.WriteLine(harom);                             // változó értéke\n",
    "Console.WriteLine(\"Három, avagy {0}\",harom);          // formatálás\n",
    "Console.WriteLine(\"Három, avagy \" + harom);           // lánccsatolás (concatenation)\n",
    "Console.WriteLine($\"Három, avagy {harom}\");           // formatálás 2.0"
   ]
  },
  {
   "cell_type": "markdown",
   "metadata": {},
   "source": [
    "Beolvasáshoz pedig a `Console.ReadLine()` vagy `Console.ReadKey()` jut az eszünkbe.\n",
    "\n",
    "Mivel _visszaad (return-ol)_ egy értéket (és el akarjuk menteni), **változóba tároljuk**.\n",
    "\n",
    "És vigyázat! Ez a *funkció* (eljárás) csak `string` értékként adja vissza a bemenetet.  \n",
    "Ezért fontos, ha számot kell varázsolni, az `int.Parse()` vagy a `Convert.ToInt()` funkció segíthet.  \n",
    "Viszont ha *alap* típusokkal gondolkozunk észszerűen, akkor használhatunk **típuskényszerítés**t,  \n",
    "például `double` to `int` esetében (ekkor a törtrész elveszik!).\n",
    "\n",
    "Syntax:\n",
    "```csharp\n",
    "(Túj_típus)érték            //  <-  csak akkor, ha észszerű a kényszer.\n",
    "```"
   ]
  },
  {
   "cell_type": "code",
   "execution_count": null,
   "metadata": {
    "dotnet_interactive": {
     "language": "csharp"
    },
    "vscode": {
     "languageId": "polyglot-notebook"
    }
   },
   "outputs": [],
   "source": [
    "Console.WriteLine(\"Mi a neved?\");\n",
    "string sNév = Console.ReadLine();\n",
    "\n",
    "Console.WriteLine(\"Hány éves vagy?\");\n",
    "int iKor = Convert.ToInt32(Console.ReadLine());                   // itt string->int kényszer HIBA lenne\n",
    "\n",
    "Console.WriteLine(\"Szia {0}, te {1} éves vagy\", sNév, iKor);"
   ]
  },
  {
   "cell_type": "markdown",
   "metadata": {},
   "source": [
    "### 6. Operátorok és alap kulcsszavak\n",
    "\n",
    "Egy operátor egy karakter ami programlogikai, matematikai vagy logikai feladatot lát el.  \n",
    "A sorrendiség követi a matematika elveit (*PEMDAS*). Továbbiakért lásd [itt (docs.microsoft.com)](https://docs.microsoft.com/en-us/dotnet/csharp/language-reference/operators/#:~:text=with%20the%20highest-,precedence,-to%20the%20lowest).\n",
    "\n",
    "##### Aritmetikus opok\n",
    "\n",
    "Ezek adják a programozás számtani alapműveleteit.  \n",
    "\n",
    "| Operátor  | Karakter       | Példa   |\n",
    "| :-------- | :------------: | -----:  |\n",
    "| Összeadás | + | x + y;               |\n",
    "| Kivonás | - | x - y;                 |\n",
    "| Szorzás | * | x * y;                 |\n",
    "| Osztás **(!)** | / | x / y;          |\n",
    "| Moduló/Maradék | % | x % y;          |\n",
    "| Ellentett | - | -x;                  |\n",
    "\n",
    "**!**:    Az osztásnál figyelembe kell venni a két tag típusát. `int`-et `int`-tel osztva elveszik a törtrész. Ekkor érdemes `double`-be vagy `float`-ba konvertálni először."
   ]
  },
  {
   "cell_type": "code",
   "execution_count": null,
   "metadata": {
    "dotnet_interactive": {
     "language": "csharp"
    },
    "vscode": {
     "languageId": "polyglot-notebook"
    }
   },
   "outputs": [],
   "source": [
    "int x = 11, y = 4;              // több változót is lehet deklarálni + beállítani egy sorban!\n",
    "Console.WriteLine(x+y);         // 15\n",
    "Console.WriteLine(x-y);         // 7\n",
    "Console.WriteLine(x*y);         // 44\n",
    "Console.WriteLine(x/y);         // 2.75 DE AJJAJ csak 2-t kapunk, hol a maradék?\n",
    "Console.WriteLine(x%y);         // 3    itt az egész osztásos maradék\n",
    "Console.WriteLine((double)x/y); // típuskényszerítés :)\n",
    "Console.WriteLine(-x);          // -11"
   ]
  },
  {
   "cell_type": "markdown",
   "metadata": {},
   "source": [
    "##### Hozzárendelő opok, növelők\n",
    "\n",
    "Syntax:\n",
    "```csharp\n",
    "változó = érték;        //    <-    átírás\n",
    "változő += módosítás;   //    <-    módosítás\n",
    "```\n",
    "Az egyszerű *egyenlőségjel* (`=`) adja a hozzárendelést.\n",
    "\n",
    "Az első öt számtani operátort (és a bitszintűeket is) *össze lehet vonni* a hozzárendeléssel:\n",
    "-    +=\n",
    "-    -=\n",
    "-    *=\n",
    "-    /=\n",
    "-    %=\n",
    "\n",
    "Ezek egyenértékűek a `változó = változó X módosítás;` sorral, persze mindegyik opra külön.\n",
    "\n",
    "A növelők pedig:\n",
    "\n",
    "|Operátor  | Karakter       | Példa  |\n",
    "|:-------- | :------------: | -----: |\n",
    "|Növelés | ++ | x++; ++x;            |\n",
    "|Csökkentés | -- | x--; --x;         |\n",
    "\n",
    "Ezek pedig egyenértékűek a `változó = változó X 1;` sorral, persze külön-külön.\n",
    "\n",
    "Növelésnél/Csökkentésnél egyel változik a változó értéke, viszont hogy mikor az nem mindegy.  \n",
    "* Ha a jel a név előtt van *(prefix)* akkor először **változik** aztán adja vissz a már változott értéket.  \n",
    "* Ha a jel a név mögött van *(postfix)* akkor a változó értékét **visszaadja**, majd növeli/csökkenti."
   ]
  },
  {
   "cell_type": "code",
   "execution_count": null,
   "metadata": {
    "dotnet_interactive": {
     "language": "csharp"
    },
    "vscode": {
     "languageId": "polyglot-notebook"
    }
   },
   "outputs": [],
   "source": [
    "int x = 0;\n",
    "x += 5;         // x = 0 + 5    = 5\n",
    "x -= 1;         // x = 5 - 1    = 4\n",
    "x *= 3;         // x = 4 * 3    = 12\n",
    "x /= 6;         // x = 12 / 6   = 2\n",
    "x %= 3;         // x = 2 % 3    = 2\n",
    "Console.WriteLine(x++);     // először kiírja hogy 11; aztán növeli (x = 12)\n",
    "Console.WriteLine(++x);     // először növeli (x = 13) aztán kiírja: hogy 13\n",
    "Console.WriteLine(y--);     // 4        (y = 3)\n",
    "Console.WriteLine(--y);     // 2        (y = 2)"
   ]
  },
  {
   "cell_type": "markdown",
   "metadata": {},
   "source": [
    "### 7. Elágazások, logika, hurkok\n",
    "\n",
    "Hogy a program a bemenetétől függjön, feltételes elágazásokra van szükség.  \n",
    "A feltétel kimenetele mindig két értékű lehet: `true` vagy `false`.\n",
    "\n",
    "##### Relációs opok\n",
    "\n",
    "| Operátor   | Karakter      | Példa  |\n",
    "| :-------- | :------------: | -----: |\n",
    "| Nagyobb | > | 7 > 4 -> true |\n",
    "| Nagyobb v. egyenlő | >= | 7 >= 4 -> true |\n",
    "| Egyenlő | == | \"abc\" == \"cba\" -> false |\n",
    "| Kisebb v. egyenlő | <= | 7 <= 4 -> false |\n",
    "| Kisebb | < | 7 < 4 -> false |\n",
    "| Nem egyenlő | != | \"abc\" != \"cba\" -> true |\n",
    "\n",
    "##### Logikai opok\n",
    "\n",
    "| Operátor  | Karakter       | Példa  |\n",
    "| :-------- | :------------: | -----: |\n",
    "| És | && | true && false -> false |\n",
    "| Vagy | \\|\\| | true \\|\\| false -> true |\n",
    "| Nem | ! | !false -> true |\n",
    "\n",
    "##### Ha-más kulcsszó\n",
    "\n",
    "Syntax:\n",
    "```csharp\n",
    "if (feltétel)\n",
    "{\n",
    "    //ha igaz...\n",
    "}                    // ha van '{}' teste akkor nem kell pontosvessző\n",
    "else                 // ez kiegészít egy 'if' mondatot; önmagában HIBA\n",
    "{\n",
    "    //ha hamis...\n",
    "}\n",
    "\n",
    "if (feltétel) return 1;    // itt viszont az 'if' egysoros, test nélkül, KELL ';'\n",
    "\n",
    "//külön operátorral:\n",
    "feltétel ? /*ha igaz*/ : /*ha hamis*/;        // értéket kell visszaadnia!\n",
    "    // pl. \n",
    "    Console.Write(feltétel?\"Jó\":\"Rossz\");\n",
    "    // u.a. mint\n",
    "    if (feltétel) {Console.Write(\"Jó\")};\n",
    "    else {Console.Write(\"Rossz\")};\n",
    "```\n",
    "\n",
    "Ha-más tagokat lehet egymás után kötni (chain-elni)\n",
    "```csharp\n",
    "if (felt1) {\n",
    "}\n",
    "else if (felt2) {\n",
    "}\n",
    "else if (felt3) {\n",
    "}\n",
    "//...\n",
    "else {\n",
    "}\n",
    "```\n",
    "\n"
   ]
  },
  {
   "cell_type": "code",
   "execution_count": null,
   "metadata": {
    "dotnet_interactive": {
     "language": "csharp"
    },
    "vscode": {
     "languageId": "polyglot-notebook"
    }
   },
   "outputs": [],
   "source": [
    "bool jólVagy = true;\n",
    "if (jólVagy == true)\n",
    "{\n",
    "    Console.WriteLine(\"Egészségedre!\");\n",
    "}\n",
    "else\n",
    "{\n",
    "    Console.WriteLine(\"Jobbulást!\");\n",
    "}"
   ]
  },
  {
   "cell_type": "code",
   "execution_count": null,
   "metadata": {
    "dotnet_interactive": {
     "language": "csharp"
    },
    "vscode": {
     "languageId": "polyglot-notebook"
    }
   },
   "outputs": [],
   "source": [
    "int iSzám = 16;/*<==szerkessz meg*/\n",
    "if(iSzám % 2 == 0)                          // értelmezés:   ha a (szám kettes maradéka) == nulla, azaz osztható kettővel\n",
    "{\n",
    "    Console.WriteLine(\"{0} osztható kettővel.\", iSzám);\n",
    "    if (iSzám % 4 == 0)                                         // egymásba is lehet rakni elágazásokat\n",
    "        Console.WriteLine(\"{0} néggyel is osztható.\", iSzám);   // \"egysoros\"\n",
    "} \n",
    "else                                        // az else csak akkor nem dob hibát egyedül, ha utána 'if' vagy '{}' van\n",
    "if(iSzám == 1) \n",
    "{\n",
    "    Console.WriteLine(\"{0} == egy.\", iSzám);\n",
    "}\n",
    "else                                        // itt '{}' van utána\n",
    "{\n",
    "    Console.WriteLine(\"Nem egy és nem osztható kettővel :(\");\n",
    "}"
   ]
  },
  {
   "cell_type": "markdown",
   "metadata": {},
   "source": [
    "\n",
    "Mégmielőtt a hurkokat és a switchet tárgyalnánk, egy pár szót az elágazások **vég-előtti befejezéséről**:\n",
    "\n",
    "Három kulcsszó fontos jelenleg nekünk, amivel ki lehet lépni egy elágazásból.  \n",
    "Ezek pedig: `continue;`, `break;`, `return x;`.\n",
    "\n",
    "* A `continue;` (kell a ';' a végére) egy hurkon az **adott kört befejezi**, visszaugrik a hurok elejére.\n",
    "* A `break;` **teljesen** kilép az adott hurokból, elágazásból (pl. if-else-ből).\n",
    "* A `return érték;` pedig az adott **eljárásból lép ki**, és *visszaad* a szülőfolyamatnak egy `érték`et.  \n",
    "A return nem adhat a funkció vissztípusától eltérő értéket, nem lehet tudni miként értelmezi a program.\n",
    "\n",
    "Vissza:\n",
    "\n",
    "Ha túl sok egyenlőséget néznél meg egy változón, használd a `switch` elágazást.\n",
    "\n",
    "Syntax:\n",
    "```csharp\n",
    "switch (vált)                  \n",
    "{                             // csak a változó kell a zárójelbe!!!\n",
    "    case 1:\n",
    "        // if (vált == 1)\n",
    "        break;                // FONTOS!!! A breakek nélkül átcsúszna a program nem-akart térbe (plusz a compiler hibaként jelzi),\n",
    "    case 2:                   // amúgy lehetséges és nem hibás ha kihagyásra kerül (be lehet állítani).\n",
    "        // if (vált == 2)\n",
    "        break;\n",
    "    // case 1:                // HIBA! kétszer ugyan az a case nem szerepelhet\n",
    "    case 3:\n",
    "        // if (vált == 3)\n",
    "        break;\n",
    "    //...\n",
    "    case n:\n",
    "        // if (vált == n)\n",
    "        break;\n",
    "    default:\n",
    "        // else\n",
    "        break;                // ez már felesleges, de néha a compiler beszól a kihagyott break-ekért\n",
    "}\n",
    "```"
   ]
  },
  {
   "cell_type": "code",
   "execution_count": null,
   "metadata": {
    "dotnet_interactive": {
     "language": "csharp"
    },
    "vscode": {
     "languageId": "polyglot-notebook"
    }
   },
   "outputs": [],
   "source": [
    "int x = 4;\n",
    "switch (x)\n",
    "{\n",
    "    case 1:\n",
    "        Console.WriteLine(\"x az egy.\");\n",
    "        break;\n",
    "    case 2:\n",
    "        Console.WriteLine(\"x az kettő.\");\n",
    "        break;\n",
    "    case 3:\n",
    "        Console.WriteLine(\"x az három.\");\n",
    "        break;\n",
    "    case 4:\n",
    "        Console.WriteLine(\"x az négy.\");\n",
    "        break;\n",
    "    case 5:\n",
    "        Console.WriteLine(\"x az öt.\");\n",
    "        break;\n",
    "    default:\n",
    "        Console.WriteLine(\"x valami más.\");\n",
    "        break;\n",
    "}"
   ]
  },
  {
   "cell_type": "markdown",
   "metadata": {},
   "source": [
    "##### Hurkok\n",
    "\n",
    "Hurkoknak nevezzük az ismétlődő elágazásokat, amik akár 'a végtelenségig' is futhatnak.\n",
    "\n",
    "A `while`-hurok a legegyszerűbb fajta, a test végén visszaugrik a test elejére:\n",
    "\n",
    "Syntax:\n",
    "```csharp\n",
    "while (feltétel)\n",
    "{\n",
    "    // valami... amíg feltétel az igaz\n",
    "}                                          // nincs ';'\n",
    "\n",
    "while (true) Console.WriteLine(\"AAA\");     //végtelen hurok, egysoros\n",
    "\n",
    "do\n",
    "{\n",
    "    //a csináld..amíg hurok minimum egy kört lefut!\n",
    "} while (feltétel);                        // pontosvessző!\n",
    "```\n",
    "\n",
    "A `for`-hurok eggyel bonyolultabb, itt három dolgot kell figyelembe venni:  \n",
    "- Az *init* rész a hurok rajtja előtt lefut, itt általában ideiglenes változó-elnevezés szokott lenni.  \n",
    "- A *feltétel* az ugyanaz, mint idáig. Igaz vagy hamis.\n",
    "- A *körvége* pedig minden lefutott kör végén kerül futtatásra.  \n",
    "Általában tömbökön keresztüli indexelt feladatokra használták, arra ma már van jobb mód.\n",
    "\n",
    "Syntax:\n",
    "```csharp\n",
    "for (/*init*/ int i = 0;feltétel;/*körvége*/ i++)        //két ';' az elválasztó\n",
    "{\n",
    "    //amíg a feltétel..\n",
    "}\n",
    "```"
   ]
  },
  {
   "cell_type": "code",
   "execution_count": null,
   "metadata": {
    "dotnet_interactive": {
     "language": "csharp"
    },
    "vscode": {
     "languageId": "polyglot-notebook"
    }
   },
   "outputs": [],
   "source": [
    "bool nappalVan = false;\n",
    "while (nappalVan)\n",
    "{\n",
    "    Console.WriteLine(DateTime.Now.ToString(\"T\"));      // ha nappal van, írjuk ki az időt; a \"T\" itt formátumot jelöl, mint [T]ime\n",
    "    if(DateTime.Now.Hour == 16) break;                  // ha délután négy van, fejezzük be\n",
    "}"
   ]
  },
  {
   "cell_type": "code",
   "execution_count": null,
   "metadata": {
    "dotnet_interactive": {
     "language": "csharp"
    },
    "vscode": {
     "languageId": "polyglot-notebook"
    }
   },
   "outputs": [],
   "source": [
    "string sDolog = \"Hello!\";\n",
    "for (int i = 0;i<sDolog.Length;i++)                     // 'i' egy ideiglenes iterátor (sorszám lesz), növekszik egészen sDolog hosszáig kizárólag\n",
    "{\n",
    "    Console.WriteLine(sDolog[i]);                       // a szöveg betűit egyenként írjuk ki\n",
    "}"
   ]
  },
  {
   "cell_type": "markdown",
   "metadata": {},
   "source": [
    "### 8. Eljárások\n",
    "\n",
    "**Eljárásokat** készíthetünk újra és újra kellő feladatokra.  \n",
    "A .NET alap könyvtáraiban ilyen *egyszerűsített*, ember-barát funkciókat találtunk már (`Console.WriteLine()`, `int.Parse()`).  \n",
    "Egy eljárást *bármennyiszer* hívhatunk.  \n",
    "A nevekre is ugyanúgy vonatkozik a *változókra vonatkozó szabályzat*.  \n",
    "\n",
    "Egy eljárás általánosan így néz ki:\n",
    "```csharp\n",
    "Tvisszérték Név(T paraméter1, U paraméter2, ...)   //deklarálás\n",
    "{\n",
    "    //eljárás teste\n",
    "}\n",
    "\n",
    "Név(param1, param2)                                //hívás\n",
    "```  \n",
    "ahol:\n",
    "- az eljárás *paraméterei* a zárójelén belül, vesszővel elválasztva vannak\n",
    "- az eljárás *programjai* a testén belül tartózkodnak\n",
    "- az eljárásnak `Tvisszérték`-et kell *visszaadnia*.\n"
   ]
  },
  {
   "cell_type": "markdown",
   "metadata": {},
   "source": [
    "\n",
    "A paramétereket lehet *opcionálisnak* állítani, ha megadjuk előre a default értékét,  \n",
    "vagy akár lehet *névszerint* is beírni:\n",
    "```csharp\n",
    "static void Duplázás(int x, int y=2, int z) {/* ... */}\n",
    "\n",
    "// main():\n",
    "int iRes = Duplázás(z: 7, x: 18);        //a paraméterek:    x = 18; y = 2; z = 7;\n",
    "```"
   ]
  },
  {
   "cell_type": "markdown",
   "metadata": {},
   "source": [
    "\n",
    "\n",
    "A C# három féleképpen tudja **passzolni az adatokat**:\n",
    "- mint *érték*\n",
    "- mint *referencia*\n",
    "- mint *kimenet*\n",
    "\n",
    "Defaultként **értékként** adja tovább a paramétereket (nem a változókat adja, hanem az értékeiket),  \n",
    "de a `ref` kulcsszóval lehet **referenciaként** az objektumokat bevinni az eljárásokba.  \n",
    "**Kimenetként** pedig az `out` kulcsszóval lehet, így a paraméterek inkább *kiadnak* adatot mintsem betesznek."
   ]
  },
  {
   "cell_type": "code",
   "execution_count": null,
   "metadata": {
    "dotnet_interactive": {
     "language": "csharp"
    },
    "vscode": {
     "languageId": "polyglot-notebook"
    }
   },
   "outputs": [],
   "source": [
    "static void Sqr(int x) => (x*x);\n",
    "static void SqrRef(ref int x) {x = x * x;}\n",
    "static void GetThis(out int x, out int y) {x = 5; y = 10;}\n",
    "\n",
    "int iEredet = 3;\n",
    "Sqr(iEredet);                                       //      csak az érték kerül be a funkcióba\n",
    "Console.WriteLine(iEredet);                         // 3;   az eredeti változóban nem módosul\n",
    "\n",
    "SqrRef(ref iEredet);                                //      most maga az 'x' változó került be referenciaként\n",
    "Console.WriteLine(iEredet);                         // 9;   az eredeti változóban\n",
    "\n",
    "int a, b;                                           // a kimeneti paramétereket nem muszály inicializálni (értéket adni neki), hiszen úgysem használjuk\n",
    "GetThis(out a, out b);                              // a = 5; b = 10 mostmár\n",
    "Console.WriteLine(\"a = {0}, b = {1}\", a, b);"
   ]
  },
  {
   "cell_type": "markdown",
   "metadata": {},
   "source": [
    "A **rekurzió** fontos feladata lehet egy eljárásnak. Rekurzív jelentése: önmagát hívó.  \n",
    "Példának a faktoriálist adnám:    `4! = 4 * 3 * 2 * 1 = 24`\n",
    "\n",
    "Ezt megvalósítani nem nehéz, csak *önmagát hívatni kell*, és kell írni egy *kilépési feltételt*.  \n",
    "(vagy örökké fut a program, újabb és újabb forkot nyitva = amatőr fork bomb)"
   ]
  },
  {
   "cell_type": "code",
   "execution_count": null,
   "metadata": {
    "dotnet_interactive": {
     "language": "csharp"
    },
    "vscode": {
     "languageId": "polyglot-notebook"
    }
   },
   "outputs": [],
   "source": [
    "static int Fact(int szam)\n",
    "{\n",
    "    if (szam <= 1) return 1;\n",
    "    return szam * Fact(szam - 1);           // vagy egysorosan:      return (szam <= 1) ? 1 : szam * Fact(szam - 1);\n",
    "}\n",
    "\n",
    "int iSzám = 4;\n",
    "Console.WriteLine(Fact(iSzám));"
   ]
  },
  {
   "cell_type": "markdown",
   "metadata": {},
   "source": [
    "**Túltöltés**nek nevezik azt a jelenséget, ahol egy eljárásnak több paraméteres változata van.\n",
    "Ugyan az a név, de más paraméterekkel, ha **csak** a *visszérték* különbözik az HIBA!  \n",
    "Ez akkor hasznos, ha egy általános funkciót *több típusra* szeretnénk alkalmazni."
   ]
  },
  {
   "cell_type": "code",
   "execution_count": null,
   "metadata": {
    "dotnet_interactive": {
     "language": "csharp"
    },
    "vscode": {
     "languageId": "polyglot-notebook"
    }
   },
   "outputs": [],
   "source": [
    "static void Kiír(int a) {Console.WriteLine(\"Érték: \" + a);}         //szöveg csatolása '+'-szal\n",
    "static void Kiír(double a) {Console.WriteLine(\"Érték: \" + a);}\n",
    "static void Kiír(string cím, double a) {Console.WriteLine(cím + a);}\n",
    "\n",
    "Kiír(15);\n",
    "Kiír(7.13);\n",
    "Kiír(\"Ez itt \", 9.9999999);"
   ]
  },
  {
   "cell_type": "markdown",
   "metadata": {},
   "source": [
    "Egyes operátorokat *osztályokban* túl lehet tölteni, az `operator` kulcsszavat beillesztve az op elé.  \n",
    "Ezeket lehet túltölteni: *arithmetikai* opok (`+`, `-`, `*`, `/`), *relációs* opok (`<`, `>`, `==`, `!=`, `x^y`), bitszintű opok (`<<`, `>>`, `&`, `|`);   \n",
    "azaz az elsődleges és másodlagos opok nagyrésze.  \n",
    "Viszont egyes opokat tilos és lehetetlen túltölteni, mint: `x = y`, `x.y`, `c ? t : f`, `new`, `switch`, `delegate`, és sok más (lásd [Túltölthető operátorok (docs.microsoft.com)](https://docs.microsoft.com/en-us/dotnet/csharp/language-reference/operators/operator-overloading#overloadable-operators))\n",
    "```csharp\n",
    "class Valami\n",
    "{\n",
    "    public int operator+ (int param1, int param2) {/* dolgok */} // azaz: param1 + param2\n",
    "    public int operator- (int param1) {}                         // -param1 \n",
    "    public int operator- (int param1, int param2) {}             // param1-param2\n",
    "}\n",
    "```"
   ]
  },
  {
   "cell_type": "markdown",
   "metadata": {},
   "source": [
    "### 9. Tömbök és Stringek\n",
    "\n",
    "\n",
    "#### Tömbök\n",
    "\n",
    "Hogyha több, *egyfajtájú* változót akarnánk értelmezni, szükségünk  \n",
    "lenne egy **tömbre**.\n",
    "\n",
    "Az `Array` (tömb) osztály egytípusú értékeket csoportosít *egy név* alatt.  \n",
    "Például négy darab egészet:\n",
    "\n",
    "| index: | [0]  | [1]  | [2]  | [3]  |\n",
    "| :-:    | :--: | :--: | :--: | :--: |\n",
    "| arr[]  | 16   | 2916 | 9999 | -414 |\n",
    "\n",
    "Syntax:\n",
    "```csharp\n",
    "típus[] név = {,,,};                       // a típus lesz a tömb részeinek típusa is!\n",
    "int[] dolog = new int {1, 2, 3, 4};        // <- `[]` jelzi a tömbösítést, pédányosítjuk (new) \n",
    "                                           //    és '{}' pedig megadja a konkrét értékeit\n",
    "\n",
    "double[] gyorsNév = {16.16, 12.12};        // <- gyors syntax (nem kell 'new int' kulcsszó)\n",
    "string[] másikNév = new string[hossz];     // <- itt a hossz adja meg az üres tömb hosszát\n",
    "\n",
    "dolog[1] = 15;                             // <- az első indexű (második) elemet módosítjuk;\n",
    "                                           // az első elem nulla indexű!\n",
    "\n",
    "// név[5]                                  // <- HIBA! az 5ös indexű (hatodik!) nem létező!\n",
    "```\n",
    "\n",
    "Tömbökkel dolgozni sokféleképpen lehet, de a legalapabb  \n",
    "módja az **iterálás** (minden egyes elemen keresztüli feldolgozás).  \n",
    "Ezt `for`-looppal tudjuk egyszerűen csinálni.\n",
    "```csharp\n",
    "int[] a = {1,2,3,4,5,6,7};            // a tömbünk (7 hosszú)\n",
    "\n",
    "for (int i = 0; i < 7; i++)           // létrehozunk egy 'i' ideiglenes változót ('i'terátort)\n",
    "{                                     // majd azt használjuk indexszámként, így végigmegyünk a tömb minden elemén\n",
    "    Console.WriteLine(a[i]);          // pl. kiírjuk a tömb részeit egyenként\n",
    "}                                     // FONTOS! ha túlmegy az iterátor a tömb hosszán, az HIBA!\n",
    "```\n",
    "\n",
    "Ha index-iterátort nem akarunk használni, lehet  \n",
    "`foreach`-hurokkal is.\n",
    "```csharp\n",
    "foreach (int elem in a)               // itt NEM kell '[]'; plusz egy ideiglenes változót nevezünk ki, \n",
    "{                                     // és abba vesszük a tömb egyenkénti értékeit is (tárgy-iterátor)\n",
    "    Console.WriteLine(elem);          // így elkerüljük a tömb szintaxisait, és a túlcsordulási hibát is\n",
    "}\n",
    "```"
   ]
  },
  {
   "cell_type": "code",
   "execution_count": null,
   "metadata": {
    "dotnet_interactive": {
     "language": "csharp"
    },
    "vscode": {
     "languageId": "polyglot-notebook"
    }
   },
   "outputs": [],
   "source": [
    "int[] intTömb = {10,16,21,35,47,55};\n",
    "int iSzumma = 0;\n",
    "\n",
    "foreach (var most in intTömb)\n",
    "{\n",
    "    iSzumma += most;                // összegszámítás\n",
    "}\n",
    "\n",
    "Console.WriteLine(iSzumma);"
   ]
  },
  {
   "cell_type": "markdown",
   "metadata": {},
   "source": [
    "##### Tömb a tömbben?\n",
    "\n",
    "Egy tömb *több dimenziós* is lehet, és lehetnek a *tagjai tömbök is*, hiszen  \n",
    "a 'tömb' nem más mint egy tárgy, egy osztály-típus.\n",
    "\n",
    "```csharp\n",
    "int[ , ] kétdim = new int[3,4];                // kétdimenziós tömb int-ekből\n",
    "int[,] valami = { {1, 2}, {12, 9}, {5, 6} };   // u.a. csak értékmegadással\n",
    "```\n",
    "Ez így nézne ki:\n",
    "\n",
    "|      | Oszlop1 | Oszlop2 | Oszlop3 | Oszlop4 |\n",
    "| :--- |  :---:  |  :---:  |  :---:  |  :---:  |\n",
    "| Sor1 | [0, 0]  | [0, 1]  | [0, 2]  | [0, 3]  |\n",
    "| Sor2 | [1, 0]  | [1, 1]  | [1, 2]  | [1, 3]  |\n",
    "| Sor3 | [2, 0]  | [2, 1]  | [2, 2]  | [2, 3]  |\n",
    "\n",
    "Ne féljünk *több*, *egybeágyazott* `for` vagy `foreach` loopot használni.\n",
    "\n",
    "Egy másik több-tömbös megoldás is létezik, ezek az **egyeletlen tömbök**.  \n",
    "Ezekben a fő-tömb tagjai ugyanúgy tömbök.\n",
    "```csharp\n",
    "int[][] egyeletlen = new int[][]    // két '[]'-t kell rakni!\n",
    "{                                   // és külön kell inicializálni (beállítani) ami itt példányosítással történik\n",
    "    new int[] {1,2,3,4},\n",
    "    new int[] {99, 98},\n",
    "    new int[] {10}\n",
    "}\n",
    "```\n",
    "\n",
    "A különbség a többdimenziós tömbök és az egyelentlen tömbök közt a **memóriahasználat**. \n",
    " \n",
    "* Egy *többdimenziós tömb* egy **megszakítatlan** memóriatér (egy *mátrix* basically)  \n",
    "    aminek *ugyanannyi oszlopa van minden sorban*.\n",
    "* Egy *egyeletlen tömb* pedig **tömböknek a tömbje**, így a memória *tömbönként eltérhet*.\n",
    "\n"
   ]
  },
  {
   "cell_type": "markdown",
   "metadata": {},
   "source": [
    "##### Fontos Tömb tulajdonságok\n",
    "\n",
    "Egypár fontos dolog az `Array` osztályból:\n",
    "```csharp\n",
    "int[] arr = {2, 4, 7};\n",
    "```\n",
    "- arr`.Length` megmondja a tömb hosszát (elemei számát).  \n",
    "    - fontos lehet egy `for`-loopban!\n",
    "- arr`.Rank` pedig a dimenzióinak számát.\n",
    "- arr`.Max()` a legnagyobb elemet adja vissza,\n",
    "- arr`.Min()` a legkisebbet,\n",
    "- arr`.Sum()` az összegüket.\n",
    "\n",
    "Egypár statikus (csak az Array osztályból hívható) eljárás:\n",
    "- `Array.Sort(`arr`)` visszaad egy új, rendezett tömböt (amit el kell még menteni!!),\n",
    "- `Array.Reverse(`arr`)` pedig egy fordított sorrendűt.\n",
    "- `Array.ConvertAll(`arr`, `delegátus()`)` visszaad egy *delegátus*-eljárás alapján átírt tömböt."
   ]
  },
  {
   "cell_type": "markdown",
   "metadata": {},
   "source": [
    "#### Stringek\n",
    "\n",
    "Könnyebb egy karakterláncra úgy gondolni, hogy az egy karakterekből álló tömb. Igazából a C#-ban egy objektum már."
   ]
  },
  {
   "cell_type": "code",
   "execution_count": null,
   "metadata": {
    "dotnet_interactive": {
     "language": "csharp"
    },
    "vscode": {
     "languageId": "polyglot-notebook"
    }
   },
   "outputs": [],
   "source": [
    "string asdfgh = \"hello\";\n",
    "string qwertz = new String(new char[] {'h', 'e', 'l', 'l', 'o', '\\x00'});\n",
    "/*  ugyanaz a két sor  */                                      /* ↑ ez egy kilépési karakter */\n",
    "// a kilépési karakterek '\\'-el kezdődnek, és kicserélődnek futáskor\n",
    "// itt a \\x00 egy null-karakterre cserélődik, ami a stringek híres lezáró karaktere\n",
    "Console.WriteLine(asdfgh);\n",
    "Console.WriteLine(qwertz);"
   ]
  },
  {
   "cell_type": "markdown",
   "metadata": {},
   "source": [
    "Fontos megjegyezni hogy az ember-olvasható karaktereken kívül vannak *láthatatlan*, de  \n",
    "annál fontosabb karakterek. Ezeket **kontroll-karaktereknek** hívjuk.\n",
    "\n",
    "Közéjük tartozik például az *újsor*, *kocsivissza*, *null*, *csengő*, *tab*, etc.\n",
    "Hogy ezeket *láthatóvá*, *leírhatóvá* varázsoljuk, létrejöttek az **escape kódok** (escape sequence),  \n",
    "*használatuk*: egy **visszaperjel** és utána a jellemző kód (előző példák: `\\n`, `\\r`, `\\0`, `\\a`, `\\t`, ...)  \n",
    "Ha egy literális visszaperjel kell, csak írj duplát (`\\\\`), így nem lesz értelmezve véletlenül.\n",
    "\n",
    "További infó: [C# Stringek (docs.microsoft.com)](https://docs.microsoft.com/en-us/dotnet/csharp/programming-guide/strings/#string-escape-sequences), [Escape sorozatok (wikipedia.org)](https://en.wikipedia.org/wiki/ANSI_escape_code), és [Kontroll karakter (wikipedia.org)](https://en.wikipedia.org/wiki/Control_character)"
   ]
  },
  {
   "cell_type": "markdown",
   "metadata": {},
   "source": [
    "Amikor egy `\"szöveget\"` írsz, akkor végülis egy String osztályú példányt hozol létre.  \n",
    "Ezért a stringeknek is van pár fontos tulajdonságuk:\n",
    "```csharp\n",
    "string st = \"halihó\";        // u.a. mint `string st = new string \"halihó\";`\n",
    "Console.WriteLine(st[2]);    // \"l\"\n",
    "```\n",
    "- st`.Length` a hosszát adja vissza.\n",
    "- st`.Split(k)` visszaad egy karakteren szétválasztott string-tömböt (!).\n",
    "- st`.IndexOf(a)` a keresett érték legelső előfordulásának indexét adja vissza.\n",
    "- st`.Insert(1, \"be\")` beilleszt egy szöveget a megadott indexnél kezdve (visszaadja csak!).\n",
    "- st`.Remove(2)` kitöröl minden karaktert indextől kezdve.\n",
    "- st`.Replace(\"régi\", \"új\")` kicseréli a *régi* szakaszt *új*ra.\n",
    "- st`.Substring(i, x)` kivág egy *x* hosszúságú részletet *i*-től.\n",
    "- st`.Contains(\"b\")` megnézi hogy benne van-e egy részlet a szövegben.\n",
    "\n",
    "Statikus eljárások:\n",
    "- `String.Concat(`a`, `b`)` csinál egy összevont szöveget (u.a. mint stringek közt a '+' operátor).\n",
    "- `String.Equals(`a`, `b`)` ellenőrzi az azonosságot."
   ]
  },
  {
   "cell_type": "markdown",
   "metadata": {},
   "source": [
    "# Folytatás a `programozas_gyorstalpalo_nehezebbik` című fájlban\n",
    "\n",
    "Olyan érdekes témákkal mint:\n",
    "\n",
    "* névterek, osztályok, tárgyak\n",
    "* inheritancia és polimorfizmus (ami két fancy szó az *öröklésre* és a *sokoldalúságra*)\n",
    "* struktúrák, enumok\n",
    "* hibák (exceptionök)\n",
    "* fájlok\n",
    "* általánosítás (*fuck yes all my homies love generalizing*)\n",
    "* delegátok és anonim (lambda) eljárások\n",
    "* és még több érdekesség..."
   ]
  },
  {
   "cell_type": "markdown",
   "metadata": {},
   "source": [
    "\n",
    "-----------------------\n",
    "&copy; Daniel Adam Farkas 2022\n",
    "\n",
    "<a rel=\"license\" href=\"http://creativecommons.org/licenses/by-sa/4.0/\"><img alt=\"Creative Commons Lizenzvertrag\" style=\"border-width:0\" src=\"https://i.creativecommons.org/l/by-sa/4.0/88x31.png\" /></a><br />Dieses Werk ist lizenziert unter einer <a rel=\"license\" href=\"http://creativecommons.org/licenses/by-sa/4.0/\">Creative Commons Namensnennung - Weitergabe unter gleichen Bedingungen 4.0 International Lizenz</a>.\n",
    "\n",
    "<a rel=\"license\" href=\"http://creativecommons.org/licenses/by-sa/4.0/\"><img alt=\"Creative Commons License\" style=\"border-width:0\" src=\"https://i.creativecommons.org/l/by-sa/4.0/88x31.png\" /></a><br />This work is licensed under a <a rel=\"license\" href=\"http://creativecommons.org/licenses/by-sa/4.0/\">Creative Commons Attribution-ShareAlike 4.0 International License</a>."
   ]
  }
 ],
 "metadata": {
  "kernelspec": {
   "display_name": ".NET (C#)",
   "language": "C#",
   "name": ".net-csharp"
  },
  "language_info": {
   "file_extension": ".cs",
   "mimetype": "text/x-csharp",
   "name": "C#",
   "pygments_lexer": "csharp",
   "version": "9.0"
  },
  "orig_nbformat": 4,
  "vscode": {
   "interpreter": {
    "hash": "81794d4967e6c3204c66dcd87b604927b115b27c00565d3d43f05ba2f3a2cb0d"
   }
  }
 },
 "nbformat": 4,
 "nbformat_minor": 2
}
