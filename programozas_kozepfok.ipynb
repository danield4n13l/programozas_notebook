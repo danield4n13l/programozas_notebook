{
 "cells": [
  {
   "attachments": {},
   "cell_type": "markdown",
   "metadata": {},
   "source": [
    "# Középhaladő\n",
    "A neheze csak most jön >:D"
   ]
  },
  {
   "attachments": {},
   "cell_type": "markdown",
   "metadata": {},
   "source": [
    "## 10. Struktúrák és Enumok\n",
    "\n",
    "##### Struktúrák\n",
    "\n",
    "C#-ban egy **struktúra** adott változótípusok csoportosítása, így új (komplex) adattípus jön létre.  \n",
    "Létrehozását a `struct` szóval kezdjük.\n",
    "\n",
    "pl:\n",
    "```csharp\n",
    "struct Könyv                        // elnevezzük 'Könyv'-nek a típusunkat\n",
    "{\n",
    "    public string cím;              // (string) Könyv.cím\n",
    "    public int oldalSzám;           // (int) Könyv.oldalSzám\n",
    "    public string[] lapok;          // (string[]) Könyv.lapok\n",
    "    public void legyen(string cím, int oldalSzám, string[] lapok)    // saját eljárások\n",
    "    {\n",
    "        this.cím = cím;\n",
    "        this.oldalSzám = oldalSzám;\n",
    "        this.lapok = lapok;\n",
    "    }\n",
    "}\n",
    "```\n",
    "\n",
    "A struktúrák más nyelvekben eléggé primitívek, C#-ban viszont lehet **eljárásokat**,  \n",
    "**konstruktorokat** (de nem destruktorokat!), **tulajdonságokat**, **operátor eljárásokat**, etc... fűzni hozzá.\n",
    "\n",
    "Mi a különbség a `struct`ok és osztályok között?\n",
    "- *osztályok* referens típusok; *struktúrák* **érték** típusok\n",
    "- struktúráknál **nem kell** a `new` kulcsszó\n",
    "- struktúrák **nem támogatják** az öröklést\n",
    "- struktoknak **nem lehet** *alap konstruktorjuk*"
   ]
  },
  {
   "attachments": {},
   "cell_type": "markdown",
   "metadata": {},
   "source": [
    "##### Enumok\n",
    "\n",
    "Egy **enumerációnak** (felsorolásnak) lényege az *egyszerű számozások elnevezése*.  \n",
    "Kifejezetten hasznos például fájlok megnyitási módjának kiválasztásakor  \n",
    "*(sokkal könnyebb megérteni a `FileAccess.Write` nevet, mint megjegyezni  a '2' számot)*,  \n",
    "de használatuk feladatonként eltér.\n",
    "```csharp\n",
    "enum Irány                    // a számsor neve 'Irány'\n",
    "{                             // az alap számsor 0-tól kezdődik és 1-el növekszik\n",
    "    Fel, Jobbra, Le, Balra    // Irány.Fel = 0; Irány.Jobbra = 1; Irány.Le = 2 ; Irány.Balra = 3\n",
    "}\n",
    "```\n",
    "Az enumok *külön adattípusok*, így nem tudnak örökölni típust, és  \n",
    "a fordítóprogram nem fogja érteni az *implicit (operátorok nélküli sima) típusváltást*,  \n",
    "ezért fontos, hogy **típuskényszerítsünk**.\n",
    "```csharp\n",
    "System.Console.WriteLine( (int)Irány.Fel );    // kimenet:    0\n",
    "System.Console.WriteLine( (int)Irány.Le );     // kimenet:    2\n",
    "```"
   ]
  },
  {
   "cell_type": "code",
   "execution_count": null,
   "metadata": {
    "dotnet_interactive": {
     "language": "csharp"
    },
    "vscode": {
     "languageId": "polyglot-notebook"
    }
   },
   "outputs": [],
   "source": [
    "struct Könyv                        // elnevezzük 'Könyv'-nek a típusunkat\n",
    "{\n",
    "    public string cím;              // (string) Könyv.cím\n",
    "    public int oldalSzám;           // (int) Könyv.oldalSzám\n",
    "    public string[] lapok;          // (string[]) Könyv.lapok\n",
    "    public IrodalmiMűnem műnem;     // (IrodalmiMűnem) Könyv.műnem\n",
    "    public void legyen(string cím, int oldalSzám, string[] lapok)      // saját eljárások\n",
    "    {\n",
    "        this.cím = cím;\n",
    "        this.oldalSzám = oldalSzám;\n",
    "        this.lapok = lapok;\n",
    "    }\n",
    "    public void legyen(string cím, int oldalSzám, IrodalmiMűnem műnem) // túltöltés\n",
    "    {\n",
    "        this.cím = cím;\n",
    "        this.oldalSzám = oldalSzám;\n",
    "        this.műnem = műnem;\n",
    "    }\n",
    "}\n",
    "\n",
    "enum IrodalmiMűnem\n",
    "{Epikus = 1, Lírai, Drámai}         // lehet kezdőszámot, vagy akár külön az összeset beállítani\n",
    "\n",
    "Könyv k1;                           // csinálunk egy Könyv típusú változót (nem kell a 'new' kulcsszó!)\n",
    "k1.cím = \"A Gyűrűk Ura\";            // a k1 változónkon belül a címet módosítjuk\n",
    "k1.oldalSzám = 655;\n",
    "k1.műnem = IrodalmiMűnem.Epikus;    // enum előhívás\n",
    "\n",
    "Könyv k2;\n",
    "k2.legyen(\"Háry Péter\", 6969, new string[] {\"A gyerek aki élt.\",\"Vége.\"});\n",
    "\n",
    "Könyv k3;\n",
    "k3.legyen(\"Édes Anna\", 300, IrodalmiMűnem.Epikus);\n",
    "\n",
    "System.Console.WriteLine(\"k1 címe: {0}\", k1.cím);   // előhívás\n",
    "System.Console.WriteLine(\"k2: {0} {1}\", k2.cím, k2.oldalSzám);   // előhívás\n",
    "foreach (var elem in k2.lapok)\n",
    "{\n",
    "    System.Console.WriteLine(elem);\n",
    "}\n",
    "System.Console.WriteLine(\n",
    "    \"k3 infó: {0}; {1}; {2}; {3}\", k3.cím, k3.oldalSzám, k3.műnem, (int)k3.műnem     \n",
    "    // a műnem nevét kapjuk ha implicit alakítunk enumot stringbe!\n",
    "    );"
   ]
  },
  {
   "attachments": {},
   "cell_type": "markdown",
   "metadata": {},
   "source": [
    "## 11. Névterek, Osztályok, Tárgyak\n",
    "\n",
    "### Alapok\n",
    "\n",
    "Ahogy az alap típusok tudtak elengedhetetlen adatokat tárolni, úgy a magasabb szintű feladatokoz lehet saját típusokat megadni.\n",
    "\n",
    "Egy OOP nyelvben az **osztály** egy adattípus ami csoportosít egyéb változókat és eljárásokat az osztályhoz vagy **tárgyai**hoz.  \n",
    "Például egy *csavarhúzó* tárgynak vannak adatai és eljárásai:\n",
    "\n",
    "- fej típusa (csillag, lapos, torx, imbusz, etc.)\n",
    "- fej mérete (M16, M10, M22, etc.)\n",
    "- becsavarás, kicsavarás\n",
    "\n",
    "Ha a csavarhúzók *tervét*, **osztályát** akarjuk meghatározni, használjunk **`class`**-t.\n",
    "\n",
    "> A *konstansokat* és *változókat* **tulajdonságoknak** nevezzük.  \n",
    "> Az *osztályon belüli eljárásokat* **metódusoknak** nevezzük.  \n",
    "> Az osztály részeit együttesen **tagoknak** nevezzük.\n",
    "\n",
    "Miután deklaráltuk az osztályunkat, előhívhatunk egy *példányt* annak mintájára (**instanciálás**).  \n",
    "```csharp\n",
    "// a main()-ben:\n",
    "Osztály pdny = new Osztály();\n",
    "pdny.Használ();\n",
    "```"
   ]
  },
  {
   "cell_type": "code",
   "execution_count": null,
   "metadata": {
    "dotnet_interactive": {
     "language": "csharp"
    },
    "polyglot_notebook": {
     "kernelName": "csharp"
    },
    "vscode": {
     "languageId": "polyglot-notebook"
    }
   },
   "outputs": [],
   "source": [
    "class Csavarhúzó              // CSAK MÁS osztályokon és eljárásokon kívül!!!\n",
    "{\n",
    "    public int iFejMéret;     // tulajdonságok\n",
    "    string fejTípus;\n",
    "    \n",
    "    public void Használ()     // osztályon belüli eljárás = metódus\n",
    "    {\n",
    "        Console.WriteLine(\"> Használtad a(z) {0}mm méretű csavarhúzót.\", this.iFejMéret);\n",
    "    }\n",
    "}\n",
    "\n",
    "Csavarhúzó cs1 = new Csavarhúzó();\n",
    "cs1.iFejMéret = 16;\n",
    "cs1.Használ();"
   ]
  },
  {
   "attachments": {},
   "cell_type": "markdown",
   "metadata": {},
   "source": [
    "##### `public` és `private`\n",
    "\n",
    "A `public` kulcsszó megengedi az osztályon *kívülieknek*, hogy egy tárgynak azt a *tulajdonságát* szabadon elérje.  \n",
    "A `private` ennek az ellentettje, a tulajdonságot csak az osztályon *belüli eljárások* vehetik igénybe.  \n",
    "Van még egy: a `protected`, ami kicsit később lesz fontos.\n",
    "\n",
    "```csharp\n",
    "cs1.iFejMéret = 16;\n",
    "cs1.nyélTípus = \"gumírozott\";\n",
    "Console.WriteLine(cs1.nyélTípus);\n",
    "```"
   ]
  },
  {
   "cell_type": "code",
   "execution_count": null,
   "metadata": {
    "dotnet_interactive": {
     "language": "csharp"
    },
    "vscode": {
     "languageId": "polyglot-notebook"
    }
   },
   "outputs": [],
   "source": [
    "class Ember\n",
    "{\n",
    "    public int iÉletkor;\n",
    "    string sNév;\n",
    "    public void Köszön()\n",
    "    {\n",
    "        Console.WriteLine(\"Szia!\");\n",
    "    }\n",
    "}\n",
    "\n",
    "Ember cs1 = new Ember();\n",
    "cs1.Köszön();\n",
    "cs1.iÉletkor = 20;\n",
    "Console.WriteLine(cs1.iÉletkor);"
   ]
  },
  {
   "attachments": {},
   "cell_type": "markdown",
   "metadata": {},
   "source": [
    "##### Memória\n",
    "\n",
    "Már átbeszéltük a paraméterek átadását C#-ban, így az osztályokkal könnyebb dolgunk van.  \n",
    "Default esetben *értékként* adja tovább a paramétereket a C#.  \n",
    "Ez azért van, mert a beépített alap típusok *érték-típusok*. Ezek a **`stack`**-be kerülnek.\n",
    "\n",
    "A `stack` egy *memória-részleg* ahova az értékek kerülnek, és a változók az értékekre **mutatnak**.\n",
    "```csharp\n",
    "int x = 100;         //                     x      bé\n",
    "char bé = 'b';       //stack:    ...[][][][100][]['b'][]...\n",
    "```\n",
    "\n",
    "Ha tárgyakat csinálunk akkor *mint referencia* kapjuk meg őket.  \n",
    "A tárgy változó a `stack`-ben lesz, viszont a tárgy adatai egy rendezetlen helyre,  \n",
    "a **`heap`**-be kerülnek.  \n",
    "A változóban ekkor egy *referencia* van, egy *cím* a `heap`-beli tárgyhoz.\n",
    "```csharp\n",
    "int x = 100;                //                x         e1\n",
    "                            // stack:    ...[100][][][0x052f1][]...\n",
    "Ember e1 = new Ember();     //                           ↓ rámutat!\n",
    "                            // heap:   ...          |Ember tárgy|  ...\n",
    "```\n",
    "\n",
    "> A `stack`-et *statikus* memóriaként használjuk (a méret **előre megadva**).  \n",
    "> A `heap`-et pedig *dinamikusként*, mivel az egyéni példányok lehet **más memóriát** foglalnak idővel."
   ]
  },
  {
   "attachments": {},
   "cell_type": "markdown",
   "metadata": {},
   "source": [
    "##### Konstruktor\n",
    "\n",
    "Hogyha új példányt csinálunk egy tárgyból, a kezdeti paramétereket szeretnénk beállítani,  \n",
    "esetleg start-funkciókat elindítani.  \n",
    "Erre való az osztály **építőeljárása** (*konstruktorja*). A *konstruktor* minden példány **készítésekor** lefut.  \n",
    "\n",
    "A konstruktor neve **megegyezik az osztály nevével**, és **nincs visszértéke**,  \n",
    "ráadásul **mindig** `public` kulcsszót kap, hogy máshonnan is lehessen hívni (pl. egy deklarálásnál).  \n",
    "> **Fontos:** a konstruktort is túl lehet tölteni.\n",
    "\n",
    "```csharp\n",
    "class Személy\n",
    "{\n",
    "    private int Kor;                // privát változó, biztonság érdekében\n",
    "\n",
    "    public Személy(int x)\n",
    "    {\n",
    "        Kor = x; /* itt a konstr. paramétereit bevisszük egy példányba*/\n",
    "        Console.WriteLine(\"Szia! Én {0} éves vagyok!\", Kor);\n",
    "    }\n",
    "}\n",
    "```\n",
    "\n",
    "Így ha egy új Személyt hívunk, így fog kinézni:\n",
    "```csharp\n",
    "Személy sz1 = new Személy(16);      // példányosít -> lefuttatja a konstruktort\n",
    "```\n"
   ]
  },
  {
   "cell_type": "code",
   "execution_count": null,
   "metadata": {
    "dotnet_interactive": {
     "language": "csharp"
    },
    "vscode": {
     "languageId": "polyglot-notebook"
    }
   },
   "outputs": [],
   "source": [
    "class Személy\n",
    "    {\n",
    "        private int kor;\n",
    "        private string név;\n",
    "\n",
    "        public Személy(int x)\n",
    "        {\n",
    "            kor = x;\n",
    "            Console.WriteLine(\"Szia! Én {0} éves vagyok!\", kor);\n",
    "        }\n",
    "        \n",
    "        public Személy(string s, int x)\n",
    "        {\n",
    "            név = s;\n",
    "            kor = x;\n",
    "            Console.WriteLine(\"Szia! {0} vagyok és {1} éves!\", név, kor);\n",
    "        }\n",
    "        \n",
    "        public void setNév(string s) {név=s;}\n",
    "        public void setKor(int a) {kor=a;}\n",
    "        public string getNév() {return név;}\n",
    "        public int getKor() {return kor;}\n",
    "    }\n",
    "\n",
    "Személy s1 = new Személy(16);\n",
    "Személy s2 = new Személy(\"Péter\", 42);\n",
    "\n",
    "s1.setNév(\"Anna\");\n",
    "\n",
    "Console.WriteLine($\"s1: {s1.getKor()} {s1.getNév()}\");\n",
    "Console.WriteLine($\"s2: {s2.getKor()} {s2.getNév()}\");"
   ]
  },
  {
   "attachments": {},
   "cell_type": "markdown",
   "metadata": {},
   "source": [
    "##### Destruktor\n",
    "\n",
    "Az *építőeljárás* ellentettje a **lebontó** (*destruktor*).  \n",
    "Amikor egy példány nem kell többé, memóriafelszabadítás érdekében **kitöröljük**,  \n",
    "ekkor kapcsol be a *destruktor*.  \n",
    "Jele: `~`.\n",
    "\n",
    "A *destruktor* neve **megegyezik az osztály nevével**, csak **EGY** lehet belőle,  \n",
    "nem lehet **semmilyen kulcsszó** rajta, és **nem lehet paramétere**.\n",
    "\n",
    "```csharp\n",
    "class Asztal\n",
    "{\n",
    "    public Asztal()\n",
    "    {\n",
    "        //konstruktor\n",
    "    }\n",
    "\n",
    "    ~Asztal()\n",
    "    {\n",
    "        //destruktor\n",
    "    }\n",
    "}\n",
    "```"
   ]
  },
  {
   "attachments": {},
   "cell_type": "markdown",
   "metadata": {},
   "source": [
    "##### Enkapszuláció és hozzáférés\n",
    "\n",
    "Az adatok az osztályok belsejében eléggé *fontosak* lehetnek,  \n",
    "és a kontrollált hozzáférés hiánya nagy biztonsági rés.  \n",
    "Egy rosszakaró lehet ki tudja aknázni a szabad elérés meglétét.\n",
    "\n",
    "Ez ellen - a biztonságos kezelés érdekében - **becsomagolást** (enkapszulációt) használunk,  \n",
    "amely védi a nyers adatokat.\n",
    "\n",
    "C#-ban ezek a kulcsszavak szabják meg az hozzáférést:  \n",
    "`public`, `private`, `protected`, `internal` és `protected internal`\n",
    "\n",
    "A következő részletben a belső változót közvetlenül nem lehet elérni, csakis a társ-funkciókkal."
   ]
  },
  {
   "cell_type": "code",
   "execution_count": null,
   "metadata": {
    "dotnet_interactive": {
     "language": "csharp"
    },
    "vscode": {
     "languageId": "polyglot-notebook"
    }
   },
   "outputs": [],
   "source": [
    "class BankSzámla\n",
    "{\n",
    "    private double egyenleg = 0;        // ez privát, tehát \"BankSzámla.egyenleg = 1000;\" HIBA lenne\n",
    "    public void Betétel(double x)       // +\n",
    "    {\n",
    "        egyenleg += x;\n",
    "    }\n",
    "    public void Kivétel(double x)       // -\n",
    "    {\n",
    "        egyenleg -= x;\n",
    "    }\n",
    "    public double Lekérdez()            // kikéri az egyenleget\n",
    "    {\n",
    "        return egyenleg;\n",
    "    }\n",
    "}"
   ]
  },
  {
   "attachments": {},
   "cell_type": "markdown",
   "metadata": {},
   "source": [
    "##### Getterek és Setterek\n",
    "\n",
    "Ha **EGY** dologgal akarunk *privát* tagot **lekérni** és/vagy **változtatni** *közvetlen hozzárendelés* nélkül,  \n",
    "**akcesszorokat** *(accessor-okat, lefordítva: hozzáférőket)* használunk.  \n",
    "Egy *akcesszor* **egy név alatt** *lekérhet* és *bevihet* adatot.  \n",
    "A **`get`** és **`set`** egy akcesszor részeljárásai, amik feldolgozzák az áthaladó adatokat.\n",
    "\n",
    "Az *akcesszoroknak* a fordító **implicit** módon (*kontextustól függően*) ad értéket.  \n",
    "Tehát ha *értéket váró* eljárásba rakjuk, a `get`-et használja,  \n",
    "ha pedig *értéket adunk ennek*, akkor a `set`-et.\n",
    "\n",
    "A `get`-nek minimum vissza kell térítenie egy adatot (`return ...`).  \n",
    "A `set`-nek egy bemeneti rögzített paramétere van: a `value`. Azzal lehet dolgozni.\n",
    "\n",
    "Syntax:\n",
    "```csharp\n",
    "class Osztály\n",
    "{\n",
    "    public int aProp\n",
    "    {\n",
    "        get {  /*lekérés, minimum 'return;'*/  }\n",
    "        set {  /*bevitel 'value'-val*/  }\n",
    "    }\n",
    "\n",
    "    public char bProp { get; set; }    //gyors szintaxis, get->return;set->hozzárendelés;\n",
    "}\n",
    "```"
   ]
  },
  {
   "cell_type": "code",
   "execution_count": null,
   "metadata": {
    "dotnet_interactive": {
     "language": "csharp"
    },
    "vscode": {
     "languageId": "polyglot-notebook"
    }
   },
   "outputs": [],
   "source": [
    "class Személy\n",
    "    {\n",
    "        private int kor;\n",
    "        private string név;\n",
    "        \n",
    "        public int Kor \n",
    "        {\n",
    "            get {return kor;}                   // getter\n",
    "            set                                 // setter\n",
    "            {\n",
    "                if(value < 99 && value > 0)     // bármilyen logika használható\n",
    "                kor = value;                    // pl. bevitel tisztitására\n",
    "                else kor = -1;\n",
    "            }\n",
    "        }\n",
    "        public string Név { get; set; }    // gyors syntax\n",
    "\n",
    "    }\n",
    "\n",
    "Személy s1 = new Személy();\n",
    "\n",
    "s1.Név = \"Anna\";\n",
    "s1.Kor = 75;\n",
    "\n",
    "Console.WriteLine($\"s1: {s1.Név} {s1.Kor}\");\n",
    "\n",
    "s1.Kor = 1000;\n",
    "\n",
    "Console.WriteLine($\"s1: {s1.Név} {s1.Kor}\");"
   ]
  },
  {
   "attachments": {},
   "cell_type": "markdown",
   "metadata": {},
   "source": [
    "### Hozzáférésjelző kulcsszavak\n",
    "\n",
    "- `public` - Teljes nyitottság; bármilyen program bármilyen kódja hozzáfér\n",
    "- `protected` - Megengedi a leányosztályoknak hogy hozzáférjenek egy (egyébként privát) résztvevőhöz, amit örökölnek.  \n",
    "- `protected internal` - u.a. plusz Programzártság (ld. ezalatt).\n",
    "- `internal` - Programzártság; csak a programfájl részei férnek hozzá\n",
    "- `sealed` - Megakadályozza az öröklést.\n",
    "- `private` - Teljes zártság; csak a saját osztálya fér hozzá"
   ]
  },
  {
   "attachments": {},
   "cell_type": "markdown",
   "metadata": {},
   "source": [
    "### Módjelző kulcsszavak\n",
    "\n",
    "##### `static`, `const`\n",
    "\n",
    "Ezt a kulcsszót már láttuk több helyen, legelősször  \n",
    "a `Main()` funkció előtt.\n",
    "```csharp\n",
    "static void Main(string[] args)\n",
    "```\n",
    "\n",
    "Az osztály tagjai (*változók*, *eljárások*, *tulajdonságok*) lehetnek  \n",
    "**statikus**ként deklarálva, ami *magához* az **osztályhoz** köti őket,  \n",
    "nem a példányokhoz.\n",
    "\n",
    "Ebből kifolyólag az osztály statikus résztvevőinek csak **egy**  \n",
    "'változata' van, kötve az *osztályhoz* globálisan.\n",
    "\n",
    "**Konstansok** azok a résztvevők, amelyeket *nem lehet változtatni*.  \n",
    "Ezek alapból **statikusak**."
   ]
  },
  {
   "cell_type": "code",
   "execution_count": null,
   "metadata": {
    "dotnet_interactive": {
     "language": "csharp"
    },
    "vscode": {
     "languageId": "polyglot-notebook"
    }
   },
   "outputs": [],
   "source": [
    "class Matek\n",
    "{\n",
    "    private const double pi = 3.1415;                          // konstans = static, nem változtatható\n",
    "    public Matek() {számláló++;}        \n",
    "\n",
    "    public static int számláló = 0;                            // statikus változó\n",
    "    public static int Négyzet(int a) {return a*a;}             // statikus eljárás\n",
    "    public static double Pi {get {return pi;}}                 // statikus tulajdonság\n",
    "}\n",
    "\n",
    "System.Console.WriteLine(Matek.Pi);                            // statikus -> csak az osztály nevéből lehet hívni\n",
    "System.Console.WriteLine(Matek.Négyzet(6));\n",
    "    \n",
    "Matek a1 = new Matek(); /* 1 */\n",
    "Matek a2 = new Matek(); /* 2 */\n",
    "System.Console.WriteLine(\"Példányok száma: \"+Matek.számláló);  // a statikus változó az osztályé, nem példányosul!"
   ]
  },
  {
   "attachments": {},
   "cell_type": "markdown",
   "metadata": {},
   "source": [
    "##### `readonly`\n",
    "\n",
    "A `readonly` szó **csak olvashatóvá** teszi az adott osztályt/tulajdonságot.  \n",
    "Így körülbelül egyenértékű a `const`-tal, de mégis sokban különböznek.\n",
    "\n",
    "1. A *konstans*okat mindig deklaráláskor **be kell állítani**. A *readonly*kat *nem*.\n",
    "2. Egy *readonly* változónak a **konstruktor adhat értéket**, a *konstans* **nem változhat egyáltalán**.\n",
    "3. Egy *readonly* változó értéke lehet **egy számítás eredménye**, a *konstans* viszont **hard-coded** (kézzel gépelt a programba)."
   ]
  },
  {
   "cell_type": "code",
   "execution_count": null,
   "metadata": {
    "dotnet_interactive": {
     "language": "csharp"
    },
    "vscode": {
     "languageId": "polyglot-notebook"
    }
   },
   "outputs": [],
   "source": [
    "class Asdfgh\n",
    "{\n",
    "    private readonly int szám;         // nem kell inicializálás\n",
    "    const double PI = 3.1415;          // ide kell\n",
    "\n",
    "    // const double PI = Math.Cos(60); // HIBA! konstans beállítása nem történhet számításból\n",
    "\n",
    "    public Asdfgh(int param)\n",
    "    {\n",
    "        szám = param + 15;          // ez szabályos, mivel a konstruktor végzi, és szabad számításból beállítani\n",
    "\n",
    "        // PI = 2.41461;            // HIBA! konstans nem változhat\n",
    "    }\n",
    "}"
   ]
  },
  {
   "attachments": {},
   "cell_type": "markdown",
   "metadata": {},
   "source": [
    "##### `this`\n",
    "\n",
    "A `this` szó a futás közben jelenlevő akkori példányra utal.  \n",
    "A példány saját magából kéri ki az adatot.\n",
    "```csharp\n",
    "class Ember\n",
    "{\n",
    "    private string név;\n",
    "    public Ember(string név)\n",
    "    {\n",
    "        this.név /* példány név változója */ = név; /* konstruktor paramétere */\n",
    "    }\n",
    "}\n",
    "```"
   ]
  },
  {
   "attachments": {},
   "cell_type": "markdown",
   "metadata": {},
   "source": [
    "## Inheritancia és polimorfizmus\n",
    "\n",
    "Ez a két szó (sorban) nem jelent mást, mint ezt a két fontos fogalmat:\n",
    "- **öröklésnek** nevezzük, mikor egy osztály felhasznál egy másik osztályt alapjaként\n",
    "- **sokoldalúságnak** pedig egy résztvevő sok formáját jelenti *típustól* függöen"
   ]
  },
  {
   "attachments": {},
   "cell_type": "markdown",
   "metadata": {},
   "source": [
    "##### Öröklés\n",
    "Az öröklés például sok kicsi osztály általános tulajdonságainak közös tárgyalására hasznos.  \n",
    "Például egy `Állat` alaposztály hasznos lehet `Kutya` és `Macska` leányosztályok írásában,  \n",
    "hiszen csak *egy helyen* kellhet módosítani a **közös** tényezőket,  \n",
    "viszont az **egyéni** dolgaikat a *saját osztályukban* írhatjuk meg.\n",
    "\n",
    "C#-ban egy osztály **kizárólag csak EGY** darab öröklést engedélyez.  \n",
    "Viszont *egybeágyazott öröklés* működőképes (későbbi téma az *interfészek* használata).\n",
    "\n",
    "Az örökölt konstruktorok is lefutnak az egyéniekkel együtt, ám a sorrend:  \n",
    "[**Anya ctor**, *Leány ctor*, *Leány dtor*, **Anya dtor**] (**kívülröl befelé**)\n",
    "\n",
    "A `protected` kulcsszó megengedi a leányosztályoknak hogy módosítsanak egy (egyébként privát) résztvevőt, amit örökölnek.  \n",
    "A `sealed` kulcsszó megakadályozza az öröklést teljesen."
   ]
  },
  {
   "cell_type": "code",
   "execution_count": null,
   "metadata": {
    "dotnet_interactive": {
     "language": "csharp"
    },
    "vscode": {
     "languageId": "polyglot-notebook"
    }
   },
   "outputs": [],
   "source": [
    "class Állat                                     // alaposztály / anyaosztály\n",
    "{\n",
    "    public int LábSzám {get;set;}\n",
    "    public int Életkor {get;set;}\n",
    "}\n",
    "\n",
    "class Kutya : Állat                             // syntax: class [osztálynév] : [anyaosztály]\n",
    "{\n",
    "    public Kutya() {LábSzám = 4;}               // anyaosztályból örökölt tényező a konstruktorban\n",
    "    public void Ugat() => Console.Write(\"Vau\"); // saját tényező\n",
    "}"
   ]
  },
  {
   "cell_type": "markdown",
   "metadata": {},
   "source": [
    "##### Sokoldalúság\n",
    "Ez szimplán egy alaposztály örökölt résztvetőinek,  \n",
    "a **leányosztályokban megváltoztatott**, sokféle formáját jelenti.  \n",
    "Máshogy fogalmazva: **felülírható eljárások** az alaposztályban.  \n",
    "Ezt a `virtual` kulcsszóval érjük el:\n",
    "```csharp\n",
    "class Síkidom {\n",
    "    public virtual void Rajzol() {\n",
    "        Console.WriteLine(\"Alap rajz eljárás\");\n",
    "    }\n",
    "}\n",
    "```\n",
    "\n",
    "Így ha egy leányosztály egy speciálisabb (*de ugyanolyan nevű*) eljárást akar,  \n",
    "az `override` kulcsszót használja:\n",
    "```csharp\n",
    "class Téglalap : Síkidom {\n",
    "    public override void  Rajzol() {\n",
    "        Console.WriteLine(\"Téglalap rajzolás!\");\n",
    "    }\n",
    "}\n",
    "```\n",
    "Így felülíródik az alaposztály `Rajzol` eljárása."
   ]
  },
  {
   "cell_type": "code",
   "execution_count": null,
   "metadata": {
    "dotnet_interactive": {
     "language": "csharp"
    },
    "vscode": {
     "languageId": "polyglot-notebook"
    }
   },
   "outputs": [],
   "source": [
    "class Síkidom {\n",
    "    public virtual void Rajzol() {\n",
    "        Console.WriteLine(\"Alap rajz eljárás\");\n",
    "    }\n",
    "}\n",
    "class Téglalap : Síkidom {\n",
    "    public override void  Rajzol() {\n",
    "        Console.WriteLine(\"Téglalap rajzolás!\");\n",
    "    }\n",
    "}\n",
    "Síkidom t1 = new Téglalap();    // típusa Síkidom, de benne egy Téglalap van"
   ]
  },
  {
   "attachments": {},
   "cell_type": "markdown",
   "metadata": {},
   "source": [
    "##### Absztrakt osztályok\n",
    "\n",
    "Ha pedig nincs értelme egynéhány eljárást definiálni az alaposztályban, akkor  \n",
    "használjunk `abstract` osztályt.  \n",
    "Ez *értéktelen*, de *felülírható* eljárásokat engedélyezi.\n",
    "```csharp\n",
    "abstract class Síkidom {                // osztály elé kell; eljárások elé ahova kell, oda\n",
    "    public abstract void Rajzol();      // CSAK absztrakt osztályban lehet absztrakt eljárás!!\n",
    "}                                       // és a leányosztályoknak értéket KELL adni nekik!!!\n",
    "```\n",
    "\n",
    "Az absztraktok **saját példányosítása tilos**."
   ]
  },
  {
   "cell_type": "code",
   "execution_count": null,
   "metadata": {
    "dotnet_interactive": {
     "language": "csharp"
    },
    "vscode": {
     "languageId": "polyglot-notebook"
    }
   },
   "outputs": [],
   "source": [
    "abstract class Síkidom {\n",
    "    public abstract void Rajzol();\n",
    "}\n",
    "class Téglalap : Síkidom {\n",
    "    public override void  Rajzol() {\n",
    "        Console.WriteLine(\"Téglalap rajzolás!\");\n",
    "    }\n",
    "}\n",
    "class Kör : Síkidom {\n",
    "    public override void  Rajzol() {\n",
    "        Console.WriteLine(\"Kör rajzolás woooooooooo\");\n",
    "    }\n",
    "}\n",
    "Síkidom t1 = new Téglalap();\n",
    "Síkidom k1 = new Kör();\n",
    "\n",
    "t1.Rajzol();\n",
    "k1.Rajzol();"
   ]
  },
  {
   "attachments": {},
   "cell_type": "markdown",
   "metadata": {},
   "source": [
    "##### Interfészek\n",
    "\n",
    "**Interfészeket** használunk hogyha *teljesen absztrakt* osztályt csinálunk,  \n",
    "azaz megvannak az általános eljárások, de a leányosztályokban akarjuk  \n",
    "definiálni ezeket.  \n",
    "Meglepő módon az `interface` kulcsszóval lehet deklarálni ezeket.  \n",
    "Általában nagy `I`-betűvel kezdjük a nevüket.\n",
    "\n",
    "Interfészek **nem tartalmazhatnak változókat (mezőket)**.\n",
    "\n",
    "Mi értelme *interfészt* használni ha van *absztrakt* is?  \n",
    "Azért éri meg *interfészt* használni, mert abból **több is szolgálhat alapul** örökléskor.\n",
    "```csharp\n",
    "class Valami : IEgyik, IMásik, etc...\n",
    "```"
   ]
  },
  {
   "cell_type": "code",
   "execution_count": null,
   "metadata": {
    "dotnet_interactive": {
     "language": "csharp"
    },
    "vscode": {
     "languageId": "polyglot-notebook"
    }
   },
   "outputs": [],
   "source": [
    "public interface ISíkidom {\n",
    "    void Rajzol();                          // default: publikus és absztrakt\n",
    "    }\n",
    "    \n",
    "class Kör : ISíkidom {\n",
    "    public void Rajzol() {                  // nem kötelező itt a 'virtual' kulcsszó\n",
    "        Console.WriteLine(\"Kör rajz :D\");   \n",
    "    }\n",
    "}\n",
    "\n",
    "ISíkidom k4 = new Kör();                    // használjuk az interfészt\n",
    "k4.Rajzol();"
   ]
  },
  {
   "attachments": {},
   "cell_type": "markdown",
   "metadata": {},
   "source": [
    "## 12. Fájlok\n",
    "\n",
    "A `System.IO` névtér tartalmaz pár osztályt az OS fájljainak kezelésére.  \n",
    "Lehet létrehozni, módosítani, törölni fájlokat.\n",
    "\n",
    "##### `File` osztály\n",
    "\n",
    "A `File` osztály pont erre való:\n",
    "```csharp\n",
    "string valami = \"Valami szöveg.\";\n",
    "File.WriteAllText(\"text.txt\", valami);        // átírja a \"text.txt\" tartalmát a szövegre\n",
    "```\n",
    "\n",
    "##### Fontos statikus `File` tulajdonságok\n",
    "\n",
    "- `File.AppendAllText()` a végérefűz szöveget\n",
    "- `File.Create()` létrehoz egy új fájlt, és visszaad egy `FileStream` példányt\n",
    "- `File.Delete()` töröl egy fájlt\n",
    "- `File.Exists()` létezés alapján igaz-hamisat ad vissza\n",
    "- `File.Copy()` másol egyet\n",
    "- `File.Move()` mozgat egyet"
   ]
  },
  {
   "attachments": {},
   "cell_type": "markdown",
   "metadata": {},
   "source": [
    "##### `FileStream` osztály\n",
    "\n",
    "A `FileStream` osztály segít alacsony szinten írni/olvasni/lezárni egy fájlt.  \n",
    "Ennek az osztálynak a szülőosztálya a `Stream` absztrakt.\n",
    "```csharp\n",
    "FileStream fájlocska = new FileStream(\"fájlnév\", fájlMód, fájlHozzáférésMód, fájlMegosztásMód);\n",
    "/*\n",
    "    ahol fájlMód egy FileMode enum = {Append, Create, CreateNew, Open, OpenOrCreate, Truncate}\n",
    "         fájlHozzáférésMód egy FileAccess enum = {Read, ReadWrite, Write}\n",
    "         fájlMegosztásMód egy FileShare enum = {Inheritable, None, Read, ReadWrite, Write}\n",
    "*/\n",
    "```"
   ]
  },
  {
   "cell_type": "code",
   "execution_count": null,
   "metadata": {
    "dotnet_interactive": {
     "language": "csharp"
    },
    "vscode": {
     "languageId": "polyglot-notebook"
    }
   },
   "outputs": [],
   "source": [
    "using System.IO;                // ne feledd! \n",
    "                                // ebből a névtérből tudja a fordító csak, mi az a FileStream!\n",
    "\n",
    "FileStream fájl = new FileStream(\"szia.txt\", FileMode.OpenOrCreate, FileAccess.ReadWrite);\n",
    "                                // szia.txt, nyisd meg vagy hozd létre, írás+olvasás\n",
    "\n",
    "for(int i = 65; i <= 71; i++)    // 65 mint byte = 'A'; 71 mint byte = 'G'\n",
    "{\n",
    "    fájl.WriteByte((byte)i);                // bájt-szinten ír!\n",
    "}\n",
    "fájl.Position = 0;                          // a kurzort az elejére állítjuk\n",
    "for(int i = 0; i <= 6; i++)\n",
    "{\n",
    "    Console.Write(fájl.ReadByte() + \" \");   // kiolvassuk a byteokat\n",
    "}\n",
    "fájl.Close();                               // és bezárjuk a fájlt, levesszük a lakatot róla"
   ]
  },
  {
   "attachments": {},
   "cell_type": "markdown",
   "metadata": {},
   "source": [
    "##### `StreamReader` és `BinaryReader` osztály\n",
    "\n",
    "Másik technika a `StreamReader`/`BinaryReader` osztályt használni. Ez különben hasonló  \n",
    "a standard bemenet olvasásához/írásához (a `Console` osztály részei `TextReader` osztályon alapulnak).\n",
    "\n",
    "Itt használhatunk az automata bezárás érdekében `using` kulcsszót, ami megadja a fájl kezelőjének \n",
    "\n",
    "```csharp\n",
    "StreamReader fájlforrás = new StreamReader(\"fájl\",fájlHozzáférésMód);    // u.a. mint FileStream\n",
    "string sor;\n",
    "while((sor = sr.ReadLine()) != null)                    // 1. lehet hozzárendelésből visszértéket kapni és azzal feltételt csinálni\n",
    "{                                                       // 2. a 'ReadLine()' eljárás u.a. mint a Console-é\n",
    "    Console.WriteLine(sor);                             // 3. a jelentés: \"ha a most beolvasott sor létezik\" akkor nyomtassuk\n",
    "}\n",
    "fájlforrás.Close();                                     // fontos becsukni!\n",
    "\n",
    "// másik technika:\n",
    "using (StreamReader FFájl = new StreamReader(\"fájl\",...))    // a 'using' a blokk végén be is zárja a fájlt, \n",
    "{                                                            // és felszabadít memóriát\n",
    "    string sor;\n",
    "    while ((sor = FFájl.ReadLine()) != null)\n",
    "    {\n",
    "        Console.WriteLine(sor);\n",
    "    }\n",
    "}\n",
    "```"
   ]
  },
  {
   "attachments": {},
   "cell_type": "markdown",
   "metadata": {},
   "source": [
    "## 13. Hibák (exceptionök)\n",
    "\n",
    "Mikor írunk programot, és mikor futtatjuk azokat, belefuthatunk fordítási és futási hibákba.  \n",
    "Ezek jelzik a program nem megfelelő futását, és visszajelzik nekünk.\n",
    "\n",
    "A *fordítási* hibákat csak is javítással lehet kiküszöbölni, nem lehet elfogni azokat a hibákat,  \n",
    "amik nem futás-közben történnek.\n",
    "\n",
    "A *runtime* (futás-idő) hibákat futtatáskor **dobja** a program, és **azonnal kilép**;  \n",
    "a *.NET keretrendszer* tartalmaz jónéhány hibát a rossz kimenetelek hirtelen lekötésére.  \n",
    "Ezeket `Exception`-öknek (*kivételeknek*, *hibáknak*) nevezzük.\n",
    "\n",
    "##### `try-catch`\n",
    "\n",
    "A hibákat a `try-catch` utasításokkal el lehet fogni, így nem fog a hiba miatt *kilépni* a futásból a program.  \n",
    "A `finally` utasítás pedig hibától függetlenül lefuttat kódot.\n",
    "Syntax:\n",
    "```csharp\n",
    "try \n",
    "{\n",
    "    // bizonytalan eljárások...\n",
    "}\n",
    "catch (Exception hiba)\n",
    "{\n",
    "    // hibakezelés itt (az elfogott hiba/hibák 'hiba' változóban lesznek)\n",
    "}\n",
    "finally\n",
    "{\n",
    "    // független a hibáktól...\n",
    "}\n",
    "```"
   ]
  },
  {
   "cell_type": "code",
   "execution_count": null,
   "metadata": {
    "dotnet_interactive": {
     "language": "csharp"
    },
    "vscode": {
     "languageId": "polyglot-notebook"
    }
   },
   "outputs": [],
   "source": [
    "try\n",
    "{       /* Unkommenteld az egyes sorokat a különféle hibákért */\n",
    "    int[] számok = {1, 2, 3};\n",
    "//    Console.WriteLine(számok[10]);    // HIBA! `IndexOutOfRangeException`\n",
    "    int nullakerdojel = 5-5;            // nem konstans nulla, így lesz runtime hiba\n",
    "    int nullávalOsztok = 10/nullakerdojel;        // HIBA! `DivideByZeroException`\n",
    "}                                       // érdekesség: ha konstans nullával osztasz, az fordítási hibának számít! (pl. \"10/0\" )\n",
    "catch (Exception e)\n",
    "{\n",
    "    Console.WriteLine(e.Message);    // minden hibának van 'Message' tulajdonsága (üzenete)\n",
    "}\n",
    "finally\n",
    "{\n",
    "    Console.WriteLine(\"Akkor is lefuttatnak engem.\");\n",
    "}"
   ]
  },
  {
   "attachments": {},
   "cell_type": "markdown",
   "metadata": {},
   "source": [
    "##### `throw`\n",
    "\n",
    "Ha pedig mi akarunk hibákat dobni és potenciálisan leállítani a hibás programot,  \n",
    "a `throw` szóval meg tudjuk tenni. Egy hiba osztály (minimum `System.Exception`)  \n",
    "**példányát** (kell a `new`) kell megadni.\n",
    "```csharp\n",
    "ArithmeticException hibaPéldány = new ArithmeticException(\"Buta vagy!\");\n",
    "throw hibaPéldány;        // előre példányosított\n",
    "throw new Exception();    // futás közben egy újat példányosít\n",
    "\n",
    "// vagy ha újradobni akarunk egy hibát\n",
    "try\n",
    "{}\n",
    "catch(Exception exc)\n",
    "{\n",
    "    throw;            // visszadobja automatikusan az 'exc' hibát\n",
    "}\n",
    "```\n"
   ]
  },
  {
   "cell_type": "code",
   "execution_count": null,
   "metadata": {
    "dotnet_interactive": {
     "language": "csharp"
    },
    "vscode": {
     "languageId": "polyglot-notebook"
    }
   },
   "outputs": [],
   "source": [
    "int bemenet = 15;\n",
    "if(bemenet < 18) \n",
    "{throw new ArithmeticException(\"Nem vagy elég idős\");}\n",
    "else \n",
    "{Console.WriteLine(\"Szia! Mit adhatok?\");}"
   ]
  },
  {
   "attachments": {},
   "cell_type": "markdown",
   "metadata": {},
   "source": [
    "## 14. Általánosítás és általános eljárások\n",
    "\n",
    "**Általánosítunk**, ha *több típusra* akarunk ugyanolyan (vagy hasonló)  \n",
    "feladatot végző eljárást készíteni.\n",
    "\n",
    "Például ha bevezetnénk egy `Csere` eljárást ami megcseréli két  \n",
    "változó értékét a helyüket megtartva:\n",
    "```csharp\n",
    "static void Csere(ref int a, ref int b)        // (a 'ref' szócskát vettük, referenciaként adja a változót)\n",
    "{\n",
    "    int ideigl = a;\n",
    "    a = b;\n",
    "    b = ideigl;\n",
    "}\n",
    "```\n",
    "\n",
    "Ha több típusra is akarnánk ugyanezt használni, általánosítunk.  \n",
    "Könnyebb, olvashatóbb, és kezelhetőbb megoldás.\n",
    "\n",
    "Használata:    az eljárásnév után *\"<>\"*-t rakunk és beleírjuk az általános típusokat"
   ]
  },
  {
   "cell_type": "code",
   "execution_count": null,
   "metadata": {
    "dotnet_interactive": {
     "language": "csharp"
    },
    "vscode": {
     "languageId": "polyglot-notebook"
    }
   },
   "outputs": [],
   "source": [
    "static void Csere<Ált>(ref Ált a, ref Ált b)    // a \"Ált\" típus itt egy általános típust jelent\n",
    "{                                               // bárminek nevezheted az általános típust\n",
    "    Ált ideigl = a;                             // több is lehet pl. Func<T,U,V>\n",
    "    a = b;\n",
    "    b = ideigl;\n",
    "}\n",
    "\n",
    "string elso = \"siuu\", masodik = \"hihi\";\n",
    "Csere<string>(ref elso, ref masodik);           // hívás:   meg kell szabni híváskor a konkrét típust!\n",
    "Console.WriteLine($\"(string) elso = {elso} | masodik = {masodik}\");\n",
    "\n",
    "int egy = 669, ketto = -161616;\n",
    "Csere<int>(ref egy, ref ketto);           // hívás:   meg kell szabni híváskor a konkrét típust!\n",
    "Console.WriteLine($\"(int) egy = {egy} | ketto = {ketto}\");"
   ]
  },
  {
   "attachments": {},
   "cell_type": "markdown",
   "metadata": {},
   "source": [
    "## 15. Delegátok, lambda op, és anonim eljárások\n",
    "\n",
    "### Delegátok\n",
    "\n",
    "Hogyha egy eljárásba paraméterként eljárást akarunk megadni, **delegátot** használunk.  \n",
    "(Bővebben: a *delegate* típus egy referens típus amiben eljárás-referencia lehet)\n",
    "\n",
    "Ugyanúgy példányosítani kell, méghozzá a konstruktorában a megadott eljárás nevével.\n",
    "\n",
    "Például itt egy delegát amibe egy **string**-paraméterű, **int**-visszértékű eljárás megy:"
   ]
  },
  {
   "cell_type": "code",
   "execution_count": null,
   "metadata": {
    "dotnet_interactive": {
     "language": "csharp"
    },
    "vscode": {
     "languageId": "polyglot-notebook"
    }
   },
   "outputs": [],
   "source": [
    "public delegate int Delegátus (string s);                        // string-param int-return delegate\n",
    "\n",
    "public static int SzóBetűSzám(string szó) {return szó.Length;}    // string-param int-return eljárás\n",
    "\n",
    "Delegátus d1 = new Delegátus(SzóBetűSzám);      // új példány, benne ZÁRÓJEL NÉLKÜL a kiválasztott eljárás neve\n",
    "Console.WriteLine(d1(\"héber\"));"
   ]
  },
  {
   "attachments": {},
   "cell_type": "markdown",
   "metadata": {},
   "source": [
    "##### Multicasting\n",
    "\n",
    "Lehet **több** delegát-példányt egybekötni, ezt **multicasting**-nak hívják.  \n",
    "Ezzel egy név alatt több, *ugyanolyan típusú* delegát hívható.  \n",
    "A hozzákötést a `+` oppal, levételt a `-` oppal lehet."
   ]
  },
  {
   "cell_type": "code",
   "execution_count": null,
   "metadata": {
    "dotnet_interactive": {
     "language": "csharp"
    },
    "vscode": {
     "languageId": "polyglot-notebook"
    }
   },
   "outputs": [],
   "source": [
    "public static int Összead(ref int n, int p) {   // ref-int-param int-param int-return eljárás\n",
    "   n += p;\n",
    "   return n;\n",
    "}\n",
    "public static int Szoroz(ref int n, int q) {    // ref-int-param int-param int-return eljárás\n",
    "   n *= q;\n",
    "   return n;\n",
    "}\n",
    "public delegate int SzámVáltoztató(ref int a, int b);   // ref-int-param int-param int-return delegát\n",
    "\n",
    "int num = 10;   /* 10-ről indulunk */\n",
    "\n",
    "SzámVáltoztató nc;                                  // példányosítások\n",
    "SzámVáltoztató nc1 = new SzámVáltoztató(Összead);\n",
    "SzámVáltoztató nc2 = new SzámVáltoztató(Szoroz);\n",
    "\n",
    "nc = nc1;   // bekötjük az összeadó példányt\n",
    "nc += nc2;  // hozzákötjük az összeadó példányhoz a szorzót SORBAN!\n",
    "\n",
    "nc(ref num, 5);     // a multicast hívása:  10 --[Összead]-> 15 --[Szoroz]-> 75\n",
    "Console.WriteLine(\"Value of Num: {0}\", num);"
   ]
  },
  {
   "attachments": {},
   "cell_type": "markdown",
   "metadata": {},
   "source": [
    "### Lambda-op és Anonim kifejezés\n",
    "\n",
    "Az egyszerű eljárásokat egyetlen operátorral is megadhatjuk,  \n",
    "ez a lambda-operátor (`=>`).\n",
    "Ez egy **kifejezéses** v. **állításos** eljárást készít.  (*expression*- v. *statement*-lambda)  \n",
    "\n",
    "Ha egy kifejezés-lambdát nem akarunk elnevezni, **anonim** (névtelen) eljárásnak hívjuk.  \n",
    "Ezek visszértéke a bennük levő utolsó kifejezés értékén múlik\n",
    "Syntax:\n",
    "```csharp\n",
    "(paraméterek) => kifejezés\n",
    "```"
   ]
  },
  {
   "cell_type": "code",
   "execution_count": null,
   "metadata": {
    "dotnet_interactive": {
     "language": "csharp"
    },
    "polyglot_notebook": {
     "kernelName": "csharp"
    },
    "vscode": {
     "languageId": "polyglot-notebook"
    }
   },
   "outputs": [],
   "source": [
    "public static int Négyzet(int x) => x*x;\n",
    "    // u.a. mint Négyzet(int x) {return x*x;}\n",
    "\n",
    "public static void Szia(string s) => Console.WriteLine($\"Szia {s}!\");\n",
    "    // u.a. mint Szia(string s) {Console.WriteLine($\"Szia {s}!\");}\n",
    "\n",
    "List<int> tomb = new List<int>() {3, 5, 3, 2};\n",
    "List<int> sorbaTomb = tomb.Select(x=>x*x).ToList();\n",
    "    // minden elemet négyzetévé alakítottunk\n",
    "    // u.a. mint foreach(x in tomb) {sorbaTomb.Add(x*x);}\n",
    "\n",
    "Console.WriteLine(Négyzet(5));\n",
    "Szia(\"Péter\");\n",
    "\n",
    "sorbaTomb.ForEach(Console.WriteLine);"
   ]
  },
  {
   "attachments": {},
   "cell_type": "markdown",
   "metadata": {},
   "source": [
    "## LINQ\n",
    "\n",
    "A **LINQ** (Language-Integrated Query) egy olyan *lekérdezési* nyelvezet, aminek segítségével könnyedén tudunk *számlálható* (`IEnumerable` interface; *foreach-elhető*) gyűjteményeken dolgozni.  \n",
    "Két szintaxisa létezik: **metódus-láncos** és ***Query***.\n",
    "\n",
    "##### Metódus-lánc syntax\n",
    "A *metódus-láncos* alakot használtuk (ld. stringek sorba rendezése), ekkor egy  \n",
    "gyűjtemény **metódusait** (saját eljárásait) előhívjuk sorban, tetszés szerint:"
   ]
  },
  {
   "cell_type": "code",
   "execution_count": null,
   "metadata": {
    "dotnet_interactive": {
     "language": "csharp"
    },
    "vscode": {
     "languageId": "polyglot-notebook"
    }
   },
   "outputs": [],
   "source": [
    "string[] szia = {\"a\", \"abcde\", \"a\", \"abcdefgh\", \"abc\"}; // egy gyüjtemény\n",
    "var sorban = szia                                       // (az újsorok nem változtatnak semmit, csak érthetőbb)\n",
    "                    .Where(y => y.Length >= 3)          // \"ahol: az elem hossza nem kevesebb mint 3\"\n",
    "                    .OrderBy(x => x.Length)             // \"rendezd: elem-hosszuság szerint\"\n",
    "                    .Distinct()                         // \"csak: a különbözőket\"\n",
    "                    .Select(e => e + $\" [{e.Length}]\")  // \"módosíts: elemenként ...\"\n",
    "                    ;   // vége //\n",
    "foreach (var item in sorban) Console.WriteLine(item);"
   ]
  },
  {
   "attachments": {},
   "cell_type": "markdown",
   "metadata": {},
   "source": [
    "##### Query (comprehension) syntax\n",
    "\n",
    "Ezt a program-darabot egy másik módon, **Query**-vel írva hasonló  \n",
    "struktúrájú, *könnyebben olvasható* szeletet kapunk.  \n",
    "A **Query** célja hogy az adatbázis-kezelő nyelvekhez (SQL, Visual Basic) hasonlítson,  \n",
    "mint egy lekérdező (hence the name) nyelv, könnyítve a programozást.  \n",
    "Kulcsszavai *majdnem* egy az egyben egyeznek a metódusokkal:"
   ]
  },
  {
   "cell_type": "code",
   "execution_count": null,
   "metadata": {
    "dotnet_interactive": {
     "language": "csharp"
    },
    "vscode": {
     "languageId": "polyglot-notebook"
    }
   },
   "outputs": [],
   "source": [
    "string[] szia = {\"a\", \"abcde\", \"a\", \"abcdefgh\", \"abc\"}; // egy gyüjtemény\n",
    "var sorban = (from elem in szia                   // kötelező sor, elem = ideiglenes változó\n",
    "             where elem.Length >= 3               // \"ahol:\"\n",
    "             orderby elem.Length                  // \"rendezd:\"\n",
    "             select elem + $\" [{elem.Length}]\")   // kötelező sor (select v. group)\n",
    "                    .Distinct()                          // ez sajna nincs bent a query szintaxisban\n",
    "                  /*.Select(e => e + $\" [{e.Length}]\")*/ // áthelyezve a query-be, (ld 5. sor)\n",
    "                    ;\n",
    "foreach (var item in sorban) Console.WriteLine(item);"
   ]
  },
  {
   "cell_type": "code",
   "execution_count": null,
   "metadata": {
    "dotnet_interactive": {
     "language": "csharp"
    },
    "vscode": {
     "languageId": "polyglot-notebook"
    }
   },
   "outputs": [],
   "source": [
    "using System.Linq;                  // linq névtér!!\n",
    "\n",
    "static int Hossz(string bemenet)    // string-param int-return eljárás\n",
    "{                                   // azaz: egy eljárás, ami string-et vesz be és int-et ad\n",
    "    return (int)(bemenet.Length);\n",
    "}\n",
    "\n",
    "string[] szia = {\"a\", \"abcde\", \"abc\", \"ghijkl\"};\n",
    "\n",
    "string[] sorban = szia.OrderBy(Hossz).ToArray();              \n",
    "        /* sorrendben:\n",
    "         *>   szia            = alap string[] tárgy\n",
    "         *>   .OrderBy(Hossz) = sorba rakjuk, \n",
    "         * azaz minden egyes elemét keresztülvezetjük 'Hossz' eljáráson,\n",
    "         * amíg egésszámokat nem kapunk (azokat sorba lehet rakni)\n",
    "         * ám kimenetként a LINQ rendezett állományát kapjuk (System.Linq.IOrderedEnumerable)\n",
    "         *>   .ToArray()      = visszaalakítjuk a 'System.Linq.IOrderedEnumerable'-t string[]-be \n",
    "         */\n",
    "foreach (var item in sorban)\n",
    "{\n",
    "    Console.WriteLine(item);\n",
    "}"
   ]
  },
  {
   "attachments": {},
   "cell_type": "markdown",
   "metadata": {},
   "source": [
    "##### Fontosabb LINQ tulajdonságok\n",
    "\n",
    "Íme néhány fontos LINQ eljárás az IEnumerable interfészt használókra (`System.Linq` névtér!):\n",
    "\n",
    "| Metódus (_**vissz-érték**-lambda_) |  Query-szintaxis         |  Jelentés              |\n",
    "|  :-------------------------:       |   :--------------------: | :---------             |\n",
    "| `var ` *x* `=` *gyűjt*          | `from` *x* `in` *gyűjt*    | A lekérdezés kezdete, `x` az ideiglenes változó `gyűjt` forrásból |\n",
    "| `.Select(`_**var**-lambda_`)`   | `select` *valami*          | Adatkiválasztás, query végén **kötelező**! |\n",
    "| `.Where(`_**bool**-lambda_`)`   | `where` *feltétel*         | Igaz-hamis feltételes kiválasztás |\n",
    "| `.OrderBy(`_**int**-lambda_`)` / `.OrderByDescending(`_**int**-lambda_`)` | `orderby` *tulajd* *irány* | Rendszerezés szám-kifejezés alapján |\n",
    "| `.Join(`*gyűjt2*`,` _**var**-lambda_`,` _**var**-lambda_`,` _**var**-lambda_`)` | `join` *y* `in` *gyűjt2* `on` *x-tulajd* `equals` *y-tulajd* | Összekapcsol két gyűjteményt egy közös kulcs használatával. Metódusként az első két _var-lambda_ a query-nek az `equals` részével egyezik meg.  A harmadik _var-lambda_ megegyezik egy `select new {}` résszel |\n",
    "| `.GroupBy(`_**var**-lambda_`)`  | `group` *x* `by` *x-tulajd* `into` *csop* | Csoportosítja a bejövő adatokat egy tulajdonság szerint. Egy csoport egy kulcsból (`Key`) és elemeiből áll, ezért két `foreach` is kellhet |\n",
    "| `.Skip(`*w*`)` | `-` | Kihagy `w` elemet az elejéről |\n",
    "| `.Take(`*w*`)` | `-` | Kiválaszt `w` elemet az elejéről |\n",
    "| `.First()` / `.FirstOrDefault()` | `-` | Az elsőt kiválasztja (vagy a gyűjtemény defaultját, általában `null`-t)_<sup>1</sup>_ |\n",
    "| `.Last()` / `.LastOrDefault()` | `-` | Az utolsót kiválasztja (vagy a gyűjtemény defaultját, általában `null`-t)_<sup>1</sup>_|\n",
    "| `ElementAt(`*i*`)` / `ElementAtOrDefault(`*i*`)` | `-` | Az *i*-indexű elemet kiválasztja (vagy a gyűjtemény defaultját, általában `null`-t) |\n",
    "| `.Distinct()` / `.DistinctBy(`_**var**-lambda_`)` | `-` | Kizárja az ismétlődéseket. A vizsgált adattípusnak tartalmaznia kell egy megfelelően felülírt `.Equals()` metódust.  Az új .NET 6.0 óta létezik a `.DistinctBy()` metódus, ami egy tulajdonság alapján szűri ki csak. Régebbi verzióknál egyenértékű kód: `.GroupBy(*var-lambda*).Select(x => x.First())` |\n",
    "| `.Count(`...`)` | `-` | Megszámolja a gyűjtemény elemeit_<sup>1</sup>_ |\n",
    "| `.Any(`...`)` | `-` | Igaz-hamisat ad vissza ha tartalmaz elemet_<sup>1</sup>_ |\n",
    "| `.Min(`_**int**-lambda_`)` | `-` | Megkeresi a minimumot. Ha szám-gyűjtemény akkor nem szükséges lambdát írni_<sup>2</sup>_ |\n",
    "| `.Max(`_**int**-lambda_`)` | `-` | Megkeresi a maximumot. Ha szám-gyűjtemény akkor nem szükséges lambdát írni_<sup>2</sup>_ |\n",
    "| `.Avg(`_**int**-lambda_`)` | `-` | Megkeresi az átlagot. Ha szám-gyűjtemény akkor nem szükséges lambdát írni_<sup>2</sup>_ |\n",
    "| `.Concat(`gyűjt2`)`        | `-` | Összekapcsol két gyűjteményt |\n",
    "| `.ToArray()` / `.ToList()` / `.ToDictionary(`...`)` | `-` | Visszaalakítja a LINQ saját típusát *tömbbé*, *listává*, vagy *szótárrá*. A szótár-konvertálásba kell két paraméter: az első a *kulcs-hozzárendelés*, a második az *érték-hozzárendelés* lambdája |\n",
    "\n",
    "-----\n",
    "<sup>1</sup>: Opcionális paraméterként lehet **feltétel-lambdát** írni. Így mint egy *where*-ként választja ki csak a megfelelőket.\n",
    "\n",
    "<sup>2</sup>: .NET 6-ban alternatívájuk a `...By()` metódus, ami nem a lambda-kifejezés típusával tér vissza, hanem az *eredeti tárolt típusával*."
   ]
  },
  {
   "attachments": {},
   "cell_type": "markdown",
   "metadata": {},
   "source": [
    "-----------------------\n",
    "# Licensz\n",
    "&copy; Daniel Adam Farkas 2023\n",
    "\n",
    "<a rel=\"license\" href=\"http://creativecommons.org/licenses/by-sa/4.0/\"><img alt=\"Creative Commons Lizenzvertrag\" style=\"border-width:0\" src=\"https://i.creativecommons.org/l/by-sa/4.0/88x31.png\" /></a><br />Dieses Werk ist lizenziert unter einer <a rel=\"license\" href=\"http://creativecommons.org/licenses/by-sa/4.0/\">Creative Commons Namensnennung - Weitergabe unter gleichen Bedingungen 4.0 International Lizenz</a>.\n",
    "\n",
    "<a rel=\"license\" href=\"http://creativecommons.org/licenses/by-sa/4.0/\"><img alt=\"Creative Commons License\" style=\"border-width:0\" src=\"https://i.creativecommons.org/l/by-sa/4.0/88x31.png\" /></a><br />This work is licensed under a <a rel=\"license\" href=\"http://creativecommons.org/licenses/by-sa/4.0/\">Creative Commons Attribution-ShareAlike 4.0 International License</a>."
   ]
  }
 ],
 "metadata": {
  "kernelspec": {
   "display_name": ".NET (C#)",
   "language": "C#",
   "name": ".net-csharp"
  },
  "language_info": {
   "name": "C#"
  }
 },
 "nbformat": 4,
 "nbformat_minor": 2
}
